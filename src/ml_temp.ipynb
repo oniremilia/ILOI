{
 "cells": [
  {
   "cell_type": "code",
   "execution_count": 222,
   "id": "b522bd46",
   "metadata": {},
   "outputs": [],
   "source": [
    "from sklearn.svm import SVC\n",
    "from sklearn.neural_network import MLPClassifier\n",
    "from sklearn.neighbors import KNeighborsClassifier\n",
    "from sklearn.svm import SVC\n",
    "from sklearn.gaussian_process import GaussianProcessClassifier\n",
    "from sklearn.gaussian_process.kernels import RBF\n",
    "from sklearn.tree import DecisionTreeClassifier\n",
    "from sklearn.ensemble import RandomForestClassifier, AdaBoostClassifier\n",
    "from sklearn.naive_bayes import GaussianNB"
   ]
  },
  {
   "cell_type": "code",
   "execution_count": 2,
   "id": "50659645",
   "metadata": {},
   "outputs": [],
   "source": [
    "Strategy = {\n",
    "    1:\"QS\",\n",
    "    2:\"ALS\",\n",
    "    3:\"VS\",\n",
    "    4:\"MR\",\n",
    "    5:\"AO\",\n",
    "    6:\"CG\",\n",
    "    7:\"CC\",\n",
    "    8:\"LC\",\n",
    "    9:\"IT\",\n",
    "    10:\"NA\",\n",
    "}\n",
    "\n",
    "Curriculum_Area = {\n",
    "    1:\"read/lit\",\n",
    "    2:\"math\",\n",
    "    3:\"spell\",\n",
    "    4:\"hand\",\n",
    "    5:\"science\",\n",
    "    6:\"soc sci\",\n",
    "    7:\"health\",\n",
    "    8:\"PE\",\n",
    "    9:\"Music\",\n",
    "    10:\"Art\",\n",
    "    11:\"Lang\",\n",
    "    12:\"Compos\",\n",
    "    13:\"Non-ac\",\n",
    "    14:\"ESL\",\n",
    "}\n",
    "\n",
    "Physical_Group = {\n",
    "    1:\"TC\",\n",
    "    2:\"LG\",\n",
    "    3:\"SG\",\n",
    "    4:\"Pairs\",\n",
    "    5:\"Single\",\n",
    "}\n",
    "\n",
    "Activity_Structure = {\n",
    "    1:\"lec/lis\",\n",
    "    2:\"lec/per\",\n",
    "    3:\"dir/lis\",\n",
    "    4:\"dir/per\",\n",
    "    5:\"dem/lis\",\n",
    "    6:\"led/per\",\n",
    "    7:\"ask/per\",\n",
    "    8:\"ask/ans\",\n",
    "    9:\"ans/ask\",\n",
    "    10:\"ev/per\",\n",
    "    11:\"obs/per\",\n",
    "    12:\"ev/dis\",\n",
    "    13:\"ev/cop\",\n",
    "    14:\"obs/dis\",\n",
    "    15:\"obs/cop\",\n",
    "    16:\"NA/free\",\n",
    "    17:\"NA/feed\",\n",
    "    18:\"NA/tran\",\n",
    "    19:\"NA/int\",\n",
    "    20:\"NA/out\",\n",
    "    21:\"interact\",\n",
    "}\n",
    "\n",
    "Mode = {\n",
    "    1:\"writing\",\n",
    "    2:\"reading\",\n",
    "    3:\"aural\",\n",
    "    4:\"verbal\",\n",
    "    5:\"wr-re\",\n",
    "    6:\"wr-au\",\n",
    "    7:\"wr-ver\",\n",
    "    8:\"re-wr\",\n",
    "    9:\"re-au\",\n",
    "    10:\"re-ver\",\n",
    "    11:\"au-wr\",\n",
    "    12:\"au-re\",\n",
    "    13:\"ver-wr\",\n",
    "    14:\"ver-re\",\n",
    "    15:\"ver-au\",\n",
    "    16:\"au-re-ver\",\n",
    "    17:\"NA\",\n",
    "    18:\"au-ver\",\n",
    "}\n",
    "\n",
    "Language_Content = {\n",
    "    1:\"social\",\n",
    "    2:\"academic\",\n",
    "    3:\"light cog\",\n",
    "    4:\"dns cog\",\n",
    "}\n",
    "\n",
    "Lang_of_Instruction_Teacher = {\n",
    "    1:\"L1\",\n",
    "    2:\"L2\",\n",
    "    3:\"L1-2\",\n",
    "    4:\"L2-1\",\n",
    "    5:\"NA\",\n",
    "}\n",
    "\n",
    "Lang_of_Instruction_Student = {\n",
    "    1:\"L1\",\n",
    "    2:\"L2\",\n",
    "    3:\"L1-2\",\n",
    "    4:\"L2-1\",\n",
    "    5:\"NA\",\n",
    "}\n",
    "\n",
    "Protocol = {\n",
    "    \"Strategy\":Strategy,\n",
    "    \"Curriculum_Area\":Curriculum_Area,\n",
    "    \"Physical_Group\":Physical_Group,\n",
    "    \"Activity_Structure\":Activity_Structure,\n",
    "    \"Mode\":Mode,\n",
    "    \"Language_Content\":Language_Content,\n",
    "    \"Lang_of_Instruction_Teacher\":Lang_of_Instruction_Teacher,\n",
    "    \"Lang_of_Instruction_Student\":Lang_of_Instruction_Student,\n",
    "}"
   ]
  },
  {
   "cell_type": "code",
   "execution_count": 83,
   "id": "f8bf467d",
   "metadata": {},
   "outputs": [
    {
     "name": "stdout",
     "output_type": "stream",
     "text": [
      "Huang_ Cowboy Mouse Day 2-009.xlsx\n",
      "Huang_ Maisy Goes Camping Day 3.xlsx\n",
      "Huang_ Pete the cat Day 4-007.xlsx\n",
      "Huang_ Stop and go Day 1.xlsx\n",
      "Huang_ The princess and the pea-010.xlsx\n",
      "Lily_ Cowboy Mouse Day 2-005.xlsx\n",
      "Lily_ Maisy goes camping Day 3.xlsx\n",
      "Lily_ Pete the cat Day 4.xlsx\n",
      "Lily_ Stop and go Day 1.xlsx\n",
      "Lily_ The princess and the pea Day 4.xlsx\n",
      "             Time    Strategy  Curriculum Area  Physical Group  \\\n",
      "count  600.000000  600.000000            600.0      600.000000   \n",
      "mean    30.500000    4.750000             14.0        1.973333   \n",
      "std     17.332552    3.346565              0.0        1.708065   \n",
      "min      1.000000    1.000000             14.0        1.000000   \n",
      "25%     15.750000    3.000000             14.0        1.000000   \n",
      "50%     30.500000    3.000000             14.0        1.000000   \n",
      "75%     45.250000   10.000000             14.0        1.250000   \n",
      "max     60.000000   10.000000             14.0        5.000000   \n",
      "\n",
      "       Activity Structure       Mode  Language Content  \\\n",
      "count          600.000000  600.00000        600.000000   \n",
      "mean             9.470000   12.16000          3.690000   \n",
      "std              6.367103    6.91598          0.744866   \n",
      "min              1.000000    2.00000          1.000000   \n",
      "25%              6.000000    3.00000          4.000000   \n",
      "50%              8.000000   16.00000          4.000000   \n",
      "75%             17.250000   18.00000          4.000000   \n",
      "max             21.000000   18.00000          4.000000   \n",
      "\n",
      "       Lang of Instruction Teacher  Lang of Instruction Student  \n",
      "count                   600.000000                   600.000000  \n",
      "mean                      2.366667                     3.023333  \n",
      "std                       0.990214                     1.528621  \n",
      "min                       1.000000                     1.000000  \n",
      "25%                       2.000000                     2.000000  \n",
      "50%                       2.000000                     2.000000  \n",
      "75%                       2.000000                     5.000000  \n",
      "max                       5.000000                     5.000000  \n"
     ]
    }
   ],
   "source": [
    "import pandas as pd\n",
    "import os\n",
    "\n",
    "sheets = []\n",
    "path = \"/tamu_hw/csce_fall2021/csce606/ILOI/src/data/Beihai/Year 1/Codes\"\n",
    "for file in os.listdir(path):\n",
    "    filename = os.fsdecode(file)\n",
    "    if filename.endswith(\".xlsx\"): \n",
    "        print(filename)\n",
    "        file_p = os.path.join(path, filename)\n",
    "        xl = pd.ExcelFile(file_p)\n",
    "        df = xl.parse('Sheet1', skiprows=5, index_col=None, usecols=range(1,10))\n",
    "        sheets.append(df)\n",
    "main_df = pd.concat(sheets)\n",
    "main_df.rename({'Lang of Instruction Teacher/Student': 'Lang of Instruction Teacher',\n",
    "           'Unnamed: 9': 'Lang of Instruction Student'}, axis=1, inplace=True)\n",
    "print(main_df.describe())"
   ]
  },
  {
   "cell_type": "code",
   "execution_count": 68,
   "id": "3203e12f",
   "metadata": {},
   "outputs": [
    {
     "name": "stderr",
     "output_type": "stream",
     "text": [
      "\r",
      "chunk:   0%|                                                                       | 0/54979 [00:00<?, ?it/s, now=None]"
     ]
    },
    {
     "name": "stdout",
     "output_type": "stream",
     "text": [
      "MoviePy - Writing audio in /tamu_hw/csce_fall2021/csce606/ILOI/src/data/Beihai/Year 1/Audios/Huang_ Cowboy Mouse Day 2-009.wav\n"
     ]
    },
    {
     "name": "stderr",
     "output_type": "stream",
     "text": [
      "                                                                                                                       \r"
     ]
    },
    {
     "name": "stdout",
     "output_type": "stream",
     "text": [
      "MoviePy - Done.\n"
     ]
    },
    {
     "name": "stderr",
     "output_type": "stream",
     "text": [
      "\r",
      "chunk:   0%|                                                                       | 0/40352 [00:00<?, ?it/s, now=None]"
     ]
    },
    {
     "name": "stdout",
     "output_type": "stream",
     "text": [
      "MoviePy - Writing audio in /tamu_hw/csce_fall2021/csce606/ILOI/src/data/Beihai/Year 1/Audios/Huang_ Maisy Goes Camping Day 3.wav\n"
     ]
    },
    {
     "name": "stderr",
     "output_type": "stream",
     "text": [
      "                                                                                                                       \r"
     ]
    },
    {
     "name": "stdout",
     "output_type": "stream",
     "text": [
      "MoviePy - Done.\n"
     ]
    },
    {
     "name": "stderr",
     "output_type": "stream",
     "text": [
      "\r",
      "chunk:   0%|                                                                       | 0/45246 [00:00<?, ?it/s, now=None]"
     ]
    },
    {
     "name": "stdout",
     "output_type": "stream",
     "text": [
      "MoviePy - Writing audio in /tamu_hw/csce_fall2021/csce606/ILOI/src/data/Beihai/Year 1/Audios/Huang_ Pete the cat Day 4-007.wav\n"
     ]
    },
    {
     "name": "stderr",
     "output_type": "stream",
     "text": [
      "                                                                                                                       \r"
     ]
    },
    {
     "name": "stdout",
     "output_type": "stream",
     "text": [
      "MoviePy - Done.\n"
     ]
    },
    {
     "name": "stderr",
     "output_type": "stream",
     "text": [
      "\r",
      "chunk:   0%|                                                                       | 0/43354 [00:00<?, ?it/s, now=None]"
     ]
    },
    {
     "name": "stdout",
     "output_type": "stream",
     "text": [
      "MoviePy - Writing audio in /tamu_hw/csce_fall2021/csce606/ILOI/src/data/Beihai/Year 1/Audios/Huang_ Stop and go Day 1.wav\n"
     ]
    },
    {
     "name": "stderr",
     "output_type": "stream",
     "text": [
      "                                                                                                                       \r"
     ]
    },
    {
     "name": "stdout",
     "output_type": "stream",
     "text": [
      "MoviePy - Done.\n"
     ]
    },
    {
     "name": "stderr",
     "output_type": "stream",
     "text": [
      "\r",
      "chunk:   0%|                                                                       | 0/42523 [00:00<?, ?it/s, now=None]"
     ]
    },
    {
     "name": "stdout",
     "output_type": "stream",
     "text": [
      "MoviePy - Writing audio in /tamu_hw/csce_fall2021/csce606/ILOI/src/data/Beihai/Year 1/Audios/Huang_ The princess and the pea-010.wav\n"
     ]
    },
    {
     "name": "stderr",
     "output_type": "stream",
     "text": [
      "                                                                                                                       \r"
     ]
    },
    {
     "name": "stdout",
     "output_type": "stream",
     "text": [
      "MoviePy - Done.\n"
     ]
    },
    {
     "name": "stderr",
     "output_type": "stream",
     "text": [
      "\r",
      "chunk:   0%|                                                                       | 0/51197 [00:00<?, ?it/s, now=None]"
     ]
    },
    {
     "name": "stdout",
     "output_type": "stream",
     "text": [
      "MoviePy - Writing audio in /tamu_hw/csce_fall2021/csce606/ILOI/src/data/Beihai/Year 1/Audios/Lily_ Cowboy Mouse Day 2-005.wav\n"
     ]
    },
    {
     "name": "stderr",
     "output_type": "stream",
     "text": [
      "                                                                                                                       \r"
     ]
    },
    {
     "name": "stdout",
     "output_type": "stream",
     "text": [
      "MoviePy - Done.\n"
     ]
    },
    {
     "name": "stderr",
     "output_type": "stream",
     "text": [
      "\r",
      "chunk:   0%|                                                                       | 0/47933 [00:00<?, ?it/s, now=None]"
     ]
    },
    {
     "name": "stdout",
     "output_type": "stream",
     "text": [
      "MoviePy - Writing audio in /tamu_hw/csce_fall2021/csce606/ILOI/src/data/Beihai/Year 1/Audios/Lily_ Maisy goes camping Day 3.wav\n"
     ]
    },
    {
     "name": "stderr",
     "output_type": "stream",
     "text": [
      "                                                                                                                       \r"
     ]
    },
    {
     "name": "stdout",
     "output_type": "stream",
     "text": [
      "MoviePy - Done.\n"
     ]
    },
    {
     "name": "stderr",
     "output_type": "stream",
     "text": [
      "\r",
      "chunk:   0%|                                                                       | 0/45215 [00:00<?, ?it/s, now=None]"
     ]
    },
    {
     "name": "stdout",
     "output_type": "stream",
     "text": [
      "MoviePy - Writing audio in /tamu_hw/csce_fall2021/csce606/ILOI/src/data/Beihai/Year 1/Audios/Lily_ Pete the cat Day 4.wav\n"
     ]
    },
    {
     "name": "stderr",
     "output_type": "stream",
     "text": [
      "                                                                                                                       \r"
     ]
    },
    {
     "name": "stdout",
     "output_type": "stream",
     "text": [
      "MoviePy - Done.\n"
     ]
    },
    {
     "name": "stderr",
     "output_type": "stream",
     "text": [
      "\r",
      "chunk:   0%|                                                                       | 0/46442 [00:00<?, ?it/s, now=None]"
     ]
    },
    {
     "name": "stdout",
     "output_type": "stream",
     "text": [
      "MoviePy - Writing audio in /tamu_hw/csce_fall2021/csce606/ILOI/src/data/Beihai/Year 1/Audios/Lily_ Stop and go Day 1.wav\n"
     ]
    },
    {
     "name": "stderr",
     "output_type": "stream",
     "text": [
      "                                                                                                                       \r"
     ]
    },
    {
     "name": "stdout",
     "output_type": "stream",
     "text": [
      "MoviePy - Done.\n"
     ]
    },
    {
     "name": "stderr",
     "output_type": "stream",
     "text": [
      "\r",
      "chunk:   0%|                                                                       | 0/44271 [00:00<?, ?it/s, now=None]"
     ]
    },
    {
     "name": "stdout",
     "output_type": "stream",
     "text": [
      "MoviePy - Writing audio in /tamu_hw/csce_fall2021/csce606/ILOI/src/data/Beihai/Year 1/Audios/Lily_ The princess and the pea Day 4.wav\n"
     ]
    },
    {
     "name": "stderr",
     "output_type": "stream",
     "text": [
      "                                                                                                                       "
     ]
    },
    {
     "name": "stdout",
     "output_type": "stream",
     "text": [
      "MoviePy - Done.\n"
     ]
    },
    {
     "name": "stderr",
     "output_type": "stream",
     "text": [
      "\r"
     ]
    }
   ],
   "source": [
    "import moviepy.editor as mp\n",
    "from pathlib import Path\n",
    "\n",
    "path = \"/tamu_hw/csce_fall2021/csce606/ILOI/src/data/Beihai/Year 1/Videos\"\n",
    "output_path = \"/tamu_hw/csce_fall2021/csce606/ILOI/src/data/Beihai/Year 1/Audios\"\n",
    "for file in os.listdir(path):\n",
    "    filename = os.fsdecode(file)\n",
    "    file_p = os.path.join(path, filename)\n",
    "    find_ex = filename.rfind('.')\n",
    "    name = filename[0:find_ex]\n",
    "    clip = mp.VideoFileClip(file_p)\n",
    "    clip.audio.write_audiofile(output_path + '/' + name + \".wav\")\n"
   ]
  },
  {
   "cell_type": "code",
   "execution_count": 86,
   "id": "021261fe",
   "metadata": {},
   "outputs": [
    {
     "name": "stdout",
     "output_type": "stream",
     "text": [
      "/tamu_hw/csce_fall2021/csce606/ILOI/src/data/Beihai/Year 1/Chunks/Huang_ Cowboy Mouse Day 2-009[0].wav\n",
      "/tamu_hw/csce_fall2021/csce606/ILOI/src/data/Beihai/Year 1/Chunks/Huang_ Cowboy Mouse Day 2-009[1].wav\n",
      "/tamu_hw/csce_fall2021/csce606/ILOI/src/data/Beihai/Year 1/Chunks/Huang_ Cowboy Mouse Day 2-009[2].wav\n",
      "/tamu_hw/csce_fall2021/csce606/ILOI/src/data/Beihai/Year 1/Chunks/Huang_ Cowboy Mouse Day 2-009[3].wav\n",
      "/tamu_hw/csce_fall2021/csce606/ILOI/src/data/Beihai/Year 1/Chunks/Huang_ Cowboy Mouse Day 2-009[4].wav\n",
      "/tamu_hw/csce_fall2021/csce606/ILOI/src/data/Beihai/Year 1/Chunks/Huang_ Cowboy Mouse Day 2-009[5].wav\n",
      "/tamu_hw/csce_fall2021/csce606/ILOI/src/data/Beihai/Year 1/Chunks/Huang_ Cowboy Mouse Day 2-009[6].wav\n",
      "/tamu_hw/csce_fall2021/csce606/ILOI/src/data/Beihai/Year 1/Chunks/Huang_ Cowboy Mouse Day 2-009[7].wav\n",
      "/tamu_hw/csce_fall2021/csce606/ILOI/src/data/Beihai/Year 1/Chunks/Huang_ Cowboy Mouse Day 2-009[8].wav\n",
      "/tamu_hw/csce_fall2021/csce606/ILOI/src/data/Beihai/Year 1/Chunks/Huang_ Cowboy Mouse Day 2-009[9].wav\n",
      "/tamu_hw/csce_fall2021/csce606/ILOI/src/data/Beihai/Year 1/Chunks/Huang_ Cowboy Mouse Day 2-009[10].wav\n",
      "/tamu_hw/csce_fall2021/csce606/ILOI/src/data/Beihai/Year 1/Chunks/Huang_ Cowboy Mouse Day 2-009[11].wav\n",
      "/tamu_hw/csce_fall2021/csce606/ILOI/src/data/Beihai/Year 1/Chunks/Huang_ Cowboy Mouse Day 2-009[12].wav\n",
      "/tamu_hw/csce_fall2021/csce606/ILOI/src/data/Beihai/Year 1/Chunks/Huang_ Cowboy Mouse Day 2-009[13].wav\n",
      "/tamu_hw/csce_fall2021/csce606/ILOI/src/data/Beihai/Year 1/Chunks/Huang_ Cowboy Mouse Day 2-009[14].wav\n",
      "/tamu_hw/csce_fall2021/csce606/ILOI/src/data/Beihai/Year 1/Chunks/Huang_ Cowboy Mouse Day 2-009[15].wav\n",
      "/tamu_hw/csce_fall2021/csce606/ILOI/src/data/Beihai/Year 1/Chunks/Huang_ Cowboy Mouse Day 2-009[16].wav\n",
      "/tamu_hw/csce_fall2021/csce606/ILOI/src/data/Beihai/Year 1/Chunks/Huang_ Cowboy Mouse Day 2-009[17].wav\n",
      "/tamu_hw/csce_fall2021/csce606/ILOI/src/data/Beihai/Year 1/Chunks/Huang_ Cowboy Mouse Day 2-009[18].wav\n",
      "/tamu_hw/csce_fall2021/csce606/ILOI/src/data/Beihai/Year 1/Chunks/Huang_ Cowboy Mouse Day 2-009[19].wav\n",
      "/tamu_hw/csce_fall2021/csce606/ILOI/src/data/Beihai/Year 1/Chunks/Huang_ Cowboy Mouse Day 2-009[20].wav\n",
      "/tamu_hw/csce_fall2021/csce606/ILOI/src/data/Beihai/Year 1/Chunks/Huang_ Cowboy Mouse Day 2-009[21].wav\n",
      "/tamu_hw/csce_fall2021/csce606/ILOI/src/data/Beihai/Year 1/Chunks/Huang_ Cowboy Mouse Day 2-009[22].wav\n",
      "/tamu_hw/csce_fall2021/csce606/ILOI/src/data/Beihai/Year 1/Chunks/Huang_ Cowboy Mouse Day 2-009[23].wav\n",
      "/tamu_hw/csce_fall2021/csce606/ILOI/src/data/Beihai/Year 1/Chunks/Huang_ Cowboy Mouse Day 2-009[24].wav\n",
      "/tamu_hw/csce_fall2021/csce606/ILOI/src/data/Beihai/Year 1/Chunks/Huang_ Cowboy Mouse Day 2-009[25].wav\n",
      "/tamu_hw/csce_fall2021/csce606/ILOI/src/data/Beihai/Year 1/Chunks/Huang_ Cowboy Mouse Day 2-009[26].wav\n",
      "/tamu_hw/csce_fall2021/csce606/ILOI/src/data/Beihai/Year 1/Chunks/Huang_ Cowboy Mouse Day 2-009[27].wav\n",
      "/tamu_hw/csce_fall2021/csce606/ILOI/src/data/Beihai/Year 1/Chunks/Huang_ Cowboy Mouse Day 2-009[28].wav\n",
      "/tamu_hw/csce_fall2021/csce606/ILOI/src/data/Beihai/Year 1/Chunks/Huang_ Cowboy Mouse Day 2-009[29].wav\n",
      "/tamu_hw/csce_fall2021/csce606/ILOI/src/data/Beihai/Year 1/Chunks/Huang_ Cowboy Mouse Day 2-009[30].wav\n",
      "/tamu_hw/csce_fall2021/csce606/ILOI/src/data/Beihai/Year 1/Chunks/Huang_ Cowboy Mouse Day 2-009[31].wav\n",
      "/tamu_hw/csce_fall2021/csce606/ILOI/src/data/Beihai/Year 1/Chunks/Huang_ Cowboy Mouse Day 2-009[32].wav\n",
      "/tamu_hw/csce_fall2021/csce606/ILOI/src/data/Beihai/Year 1/Chunks/Huang_ Cowboy Mouse Day 2-009[33].wav\n",
      "/tamu_hw/csce_fall2021/csce606/ILOI/src/data/Beihai/Year 1/Chunks/Huang_ Cowboy Mouse Day 2-009[34].wav\n",
      "/tamu_hw/csce_fall2021/csce606/ILOI/src/data/Beihai/Year 1/Chunks/Huang_ Cowboy Mouse Day 2-009[35].wav\n",
      "/tamu_hw/csce_fall2021/csce606/ILOI/src/data/Beihai/Year 1/Chunks/Huang_ Cowboy Mouse Day 2-009[36].wav\n",
      "/tamu_hw/csce_fall2021/csce606/ILOI/src/data/Beihai/Year 1/Chunks/Huang_ Cowboy Mouse Day 2-009[37].wav\n",
      "/tamu_hw/csce_fall2021/csce606/ILOI/src/data/Beihai/Year 1/Chunks/Huang_ Cowboy Mouse Day 2-009[38].wav\n",
      "/tamu_hw/csce_fall2021/csce606/ILOI/src/data/Beihai/Year 1/Chunks/Huang_ Cowboy Mouse Day 2-009[39].wav\n",
      "/tamu_hw/csce_fall2021/csce606/ILOI/src/data/Beihai/Year 1/Chunks/Huang_ Cowboy Mouse Day 2-009[40].wav\n",
      "/tamu_hw/csce_fall2021/csce606/ILOI/src/data/Beihai/Year 1/Chunks/Huang_ Cowboy Mouse Day 2-009[41].wav\n",
      "/tamu_hw/csce_fall2021/csce606/ILOI/src/data/Beihai/Year 1/Chunks/Huang_ Cowboy Mouse Day 2-009[42].wav\n",
      "/tamu_hw/csce_fall2021/csce606/ILOI/src/data/Beihai/Year 1/Chunks/Huang_ Cowboy Mouse Day 2-009[43].wav\n",
      "/tamu_hw/csce_fall2021/csce606/ILOI/src/data/Beihai/Year 1/Chunks/Huang_ Cowboy Mouse Day 2-009[44].wav\n",
      "/tamu_hw/csce_fall2021/csce606/ILOI/src/data/Beihai/Year 1/Chunks/Huang_ Cowboy Mouse Day 2-009[45].wav\n",
      "/tamu_hw/csce_fall2021/csce606/ILOI/src/data/Beihai/Year 1/Chunks/Huang_ Cowboy Mouse Day 2-009[46].wav\n",
      "/tamu_hw/csce_fall2021/csce606/ILOI/src/data/Beihai/Year 1/Chunks/Huang_ Cowboy Mouse Day 2-009[47].wav\n",
      "/tamu_hw/csce_fall2021/csce606/ILOI/src/data/Beihai/Year 1/Chunks/Huang_ Cowboy Mouse Day 2-009[48].wav\n",
      "/tamu_hw/csce_fall2021/csce606/ILOI/src/data/Beihai/Year 1/Chunks/Huang_ Cowboy Mouse Day 2-009[49].wav\n",
      "/tamu_hw/csce_fall2021/csce606/ILOI/src/data/Beihai/Year 1/Chunks/Huang_ Cowboy Mouse Day 2-009[50].wav\n",
      "/tamu_hw/csce_fall2021/csce606/ILOI/src/data/Beihai/Year 1/Chunks/Huang_ Cowboy Mouse Day 2-009[51].wav\n",
      "/tamu_hw/csce_fall2021/csce606/ILOI/src/data/Beihai/Year 1/Chunks/Huang_ Cowboy Mouse Day 2-009[52].wav\n",
      "/tamu_hw/csce_fall2021/csce606/ILOI/src/data/Beihai/Year 1/Chunks/Huang_ Cowboy Mouse Day 2-009[53].wav\n",
      "/tamu_hw/csce_fall2021/csce606/ILOI/src/data/Beihai/Year 1/Chunks/Huang_ Cowboy Mouse Day 2-009[54].wav\n",
      "/tamu_hw/csce_fall2021/csce606/ILOI/src/data/Beihai/Year 1/Chunks/Huang_ Cowboy Mouse Day 2-009[55].wav\n",
      "/tamu_hw/csce_fall2021/csce606/ILOI/src/data/Beihai/Year 1/Chunks/Huang_ Cowboy Mouse Day 2-009[56].wav\n",
      "/tamu_hw/csce_fall2021/csce606/ILOI/src/data/Beihai/Year 1/Chunks/Huang_ Cowboy Mouse Day 2-009[57].wav\n",
      "/tamu_hw/csce_fall2021/csce606/ILOI/src/data/Beihai/Year 1/Chunks/Huang_ Cowboy Mouse Day 2-009[58].wav\n",
      "/tamu_hw/csce_fall2021/csce606/ILOI/src/data/Beihai/Year 1/Chunks/Huang_ Cowboy Mouse Day 2-009[59].wav\n",
      "/tamu_hw/csce_fall2021/csce606/ILOI/src/data/Beihai/Year 1/Chunks/Huang_ Maisy Goes Camping Day 3[0].wav\n",
      "/tamu_hw/csce_fall2021/csce606/ILOI/src/data/Beihai/Year 1/Chunks/Huang_ Maisy Goes Camping Day 3[1].wav\n",
      "/tamu_hw/csce_fall2021/csce606/ILOI/src/data/Beihai/Year 1/Chunks/Huang_ Maisy Goes Camping Day 3[2].wav\n",
      "/tamu_hw/csce_fall2021/csce606/ILOI/src/data/Beihai/Year 1/Chunks/Huang_ Maisy Goes Camping Day 3[3].wav\n",
      "/tamu_hw/csce_fall2021/csce606/ILOI/src/data/Beihai/Year 1/Chunks/Huang_ Maisy Goes Camping Day 3[4].wav\n",
      "/tamu_hw/csce_fall2021/csce606/ILOI/src/data/Beihai/Year 1/Chunks/Huang_ Maisy Goes Camping Day 3[5].wav\n",
      "/tamu_hw/csce_fall2021/csce606/ILOI/src/data/Beihai/Year 1/Chunks/Huang_ Maisy Goes Camping Day 3[6].wav\n",
      "/tamu_hw/csce_fall2021/csce606/ILOI/src/data/Beihai/Year 1/Chunks/Huang_ Maisy Goes Camping Day 3[7].wav\n",
      "/tamu_hw/csce_fall2021/csce606/ILOI/src/data/Beihai/Year 1/Chunks/Huang_ Maisy Goes Camping Day 3[8].wav\n",
      "/tamu_hw/csce_fall2021/csce606/ILOI/src/data/Beihai/Year 1/Chunks/Huang_ Maisy Goes Camping Day 3[9].wav\n",
      "/tamu_hw/csce_fall2021/csce606/ILOI/src/data/Beihai/Year 1/Chunks/Huang_ Maisy Goes Camping Day 3[10].wav\n",
      "/tamu_hw/csce_fall2021/csce606/ILOI/src/data/Beihai/Year 1/Chunks/Huang_ Maisy Goes Camping Day 3[11].wav\n",
      "/tamu_hw/csce_fall2021/csce606/ILOI/src/data/Beihai/Year 1/Chunks/Huang_ Maisy Goes Camping Day 3[12].wav\n",
      "/tamu_hw/csce_fall2021/csce606/ILOI/src/data/Beihai/Year 1/Chunks/Huang_ Maisy Goes Camping Day 3[13].wav\n",
      "/tamu_hw/csce_fall2021/csce606/ILOI/src/data/Beihai/Year 1/Chunks/Huang_ Maisy Goes Camping Day 3[14].wav\n",
      "/tamu_hw/csce_fall2021/csce606/ILOI/src/data/Beihai/Year 1/Chunks/Huang_ Maisy Goes Camping Day 3[15].wav\n",
      "/tamu_hw/csce_fall2021/csce606/ILOI/src/data/Beihai/Year 1/Chunks/Huang_ Maisy Goes Camping Day 3[16].wav\n",
      "/tamu_hw/csce_fall2021/csce606/ILOI/src/data/Beihai/Year 1/Chunks/Huang_ Maisy Goes Camping Day 3[17].wav\n",
      "/tamu_hw/csce_fall2021/csce606/ILOI/src/data/Beihai/Year 1/Chunks/Huang_ Maisy Goes Camping Day 3[18].wav\n",
      "/tamu_hw/csce_fall2021/csce606/ILOI/src/data/Beihai/Year 1/Chunks/Huang_ Maisy Goes Camping Day 3[19].wav\n",
      "/tamu_hw/csce_fall2021/csce606/ILOI/src/data/Beihai/Year 1/Chunks/Huang_ Maisy Goes Camping Day 3[20].wav\n",
      "/tamu_hw/csce_fall2021/csce606/ILOI/src/data/Beihai/Year 1/Chunks/Huang_ Maisy Goes Camping Day 3[21].wav\n",
      "/tamu_hw/csce_fall2021/csce606/ILOI/src/data/Beihai/Year 1/Chunks/Huang_ Maisy Goes Camping Day 3[22].wav\n",
      "/tamu_hw/csce_fall2021/csce606/ILOI/src/data/Beihai/Year 1/Chunks/Huang_ Maisy Goes Camping Day 3[23].wav\n",
      "/tamu_hw/csce_fall2021/csce606/ILOI/src/data/Beihai/Year 1/Chunks/Huang_ Maisy Goes Camping Day 3[24].wav\n",
      "/tamu_hw/csce_fall2021/csce606/ILOI/src/data/Beihai/Year 1/Chunks/Huang_ Maisy Goes Camping Day 3[25].wav\n",
      "/tamu_hw/csce_fall2021/csce606/ILOI/src/data/Beihai/Year 1/Chunks/Huang_ Maisy Goes Camping Day 3[26].wav\n",
      "/tamu_hw/csce_fall2021/csce606/ILOI/src/data/Beihai/Year 1/Chunks/Huang_ Maisy Goes Camping Day 3[27].wav\n",
      "/tamu_hw/csce_fall2021/csce606/ILOI/src/data/Beihai/Year 1/Chunks/Huang_ Maisy Goes Camping Day 3[28].wav\n",
      "/tamu_hw/csce_fall2021/csce606/ILOI/src/data/Beihai/Year 1/Chunks/Huang_ Maisy Goes Camping Day 3[29].wav\n",
      "/tamu_hw/csce_fall2021/csce606/ILOI/src/data/Beihai/Year 1/Chunks/Huang_ Maisy Goes Camping Day 3[30].wav\n",
      "/tamu_hw/csce_fall2021/csce606/ILOI/src/data/Beihai/Year 1/Chunks/Huang_ Maisy Goes Camping Day 3[31].wav\n",
      "/tamu_hw/csce_fall2021/csce606/ILOI/src/data/Beihai/Year 1/Chunks/Huang_ Maisy Goes Camping Day 3[32].wav\n",
      "/tamu_hw/csce_fall2021/csce606/ILOI/src/data/Beihai/Year 1/Chunks/Huang_ Maisy Goes Camping Day 3[33].wav\n",
      "/tamu_hw/csce_fall2021/csce606/ILOI/src/data/Beihai/Year 1/Chunks/Huang_ Maisy Goes Camping Day 3[34].wav\n",
      "/tamu_hw/csce_fall2021/csce606/ILOI/src/data/Beihai/Year 1/Chunks/Huang_ Maisy Goes Camping Day 3[35].wav\n",
      "/tamu_hw/csce_fall2021/csce606/ILOI/src/data/Beihai/Year 1/Chunks/Huang_ Maisy Goes Camping Day 3[36].wav\n"
     ]
    },
    {
     "name": "stdout",
     "output_type": "stream",
     "text": [
      "/tamu_hw/csce_fall2021/csce606/ILOI/src/data/Beihai/Year 1/Chunks/Huang_ Maisy Goes Camping Day 3[37].wav\n",
      "/tamu_hw/csce_fall2021/csce606/ILOI/src/data/Beihai/Year 1/Chunks/Huang_ Maisy Goes Camping Day 3[38].wav\n",
      "/tamu_hw/csce_fall2021/csce606/ILOI/src/data/Beihai/Year 1/Chunks/Huang_ Maisy Goes Camping Day 3[39].wav\n",
      "/tamu_hw/csce_fall2021/csce606/ILOI/src/data/Beihai/Year 1/Chunks/Huang_ Maisy Goes Camping Day 3[40].wav\n",
      "/tamu_hw/csce_fall2021/csce606/ILOI/src/data/Beihai/Year 1/Chunks/Huang_ Maisy Goes Camping Day 3[41].wav\n",
      "/tamu_hw/csce_fall2021/csce606/ILOI/src/data/Beihai/Year 1/Chunks/Huang_ Maisy Goes Camping Day 3[42].wav\n",
      "/tamu_hw/csce_fall2021/csce606/ILOI/src/data/Beihai/Year 1/Chunks/Huang_ Maisy Goes Camping Day 3[43].wav\n",
      "/tamu_hw/csce_fall2021/csce606/ILOI/src/data/Beihai/Year 1/Chunks/Huang_ Maisy Goes Camping Day 3[44].wav\n",
      "/tamu_hw/csce_fall2021/csce606/ILOI/src/data/Beihai/Year 1/Chunks/Huang_ Maisy Goes Camping Day 3[45].wav\n",
      "/tamu_hw/csce_fall2021/csce606/ILOI/src/data/Beihai/Year 1/Chunks/Huang_ Maisy Goes Camping Day 3[46].wav\n",
      "/tamu_hw/csce_fall2021/csce606/ILOI/src/data/Beihai/Year 1/Chunks/Huang_ Maisy Goes Camping Day 3[47].wav\n",
      "/tamu_hw/csce_fall2021/csce606/ILOI/src/data/Beihai/Year 1/Chunks/Huang_ Maisy Goes Camping Day 3[48].wav\n",
      "/tamu_hw/csce_fall2021/csce606/ILOI/src/data/Beihai/Year 1/Chunks/Huang_ Maisy Goes Camping Day 3[49].wav\n",
      "/tamu_hw/csce_fall2021/csce606/ILOI/src/data/Beihai/Year 1/Chunks/Huang_ Maisy Goes Camping Day 3[50].wav\n",
      "/tamu_hw/csce_fall2021/csce606/ILOI/src/data/Beihai/Year 1/Chunks/Huang_ Maisy Goes Camping Day 3[51].wav\n",
      "/tamu_hw/csce_fall2021/csce606/ILOI/src/data/Beihai/Year 1/Chunks/Huang_ Maisy Goes Camping Day 3[52].wav\n",
      "/tamu_hw/csce_fall2021/csce606/ILOI/src/data/Beihai/Year 1/Chunks/Huang_ Maisy Goes Camping Day 3[53].wav\n",
      "/tamu_hw/csce_fall2021/csce606/ILOI/src/data/Beihai/Year 1/Chunks/Huang_ Maisy Goes Camping Day 3[54].wav\n",
      "/tamu_hw/csce_fall2021/csce606/ILOI/src/data/Beihai/Year 1/Chunks/Huang_ Maisy Goes Camping Day 3[55].wav\n",
      "/tamu_hw/csce_fall2021/csce606/ILOI/src/data/Beihai/Year 1/Chunks/Huang_ Maisy Goes Camping Day 3[56].wav\n",
      "/tamu_hw/csce_fall2021/csce606/ILOI/src/data/Beihai/Year 1/Chunks/Huang_ Maisy Goes Camping Day 3[57].wav\n",
      "/tamu_hw/csce_fall2021/csce606/ILOI/src/data/Beihai/Year 1/Chunks/Huang_ Maisy Goes Camping Day 3[58].wav\n",
      "/tamu_hw/csce_fall2021/csce606/ILOI/src/data/Beihai/Year 1/Chunks/Huang_ Maisy Goes Camping Day 3[59].wav\n",
      "/tamu_hw/csce_fall2021/csce606/ILOI/src/data/Beihai/Year 1/Chunks/Huang_ Pete the cat Day 4-007[0].wav\n",
      "/tamu_hw/csce_fall2021/csce606/ILOI/src/data/Beihai/Year 1/Chunks/Huang_ Pete the cat Day 4-007[1].wav\n",
      "/tamu_hw/csce_fall2021/csce606/ILOI/src/data/Beihai/Year 1/Chunks/Huang_ Pete the cat Day 4-007[2].wav\n",
      "/tamu_hw/csce_fall2021/csce606/ILOI/src/data/Beihai/Year 1/Chunks/Huang_ Pete the cat Day 4-007[3].wav\n",
      "/tamu_hw/csce_fall2021/csce606/ILOI/src/data/Beihai/Year 1/Chunks/Huang_ Pete the cat Day 4-007[4].wav\n",
      "/tamu_hw/csce_fall2021/csce606/ILOI/src/data/Beihai/Year 1/Chunks/Huang_ Pete the cat Day 4-007[5].wav\n",
      "/tamu_hw/csce_fall2021/csce606/ILOI/src/data/Beihai/Year 1/Chunks/Huang_ Pete the cat Day 4-007[6].wav\n",
      "/tamu_hw/csce_fall2021/csce606/ILOI/src/data/Beihai/Year 1/Chunks/Huang_ Pete the cat Day 4-007[7].wav\n",
      "/tamu_hw/csce_fall2021/csce606/ILOI/src/data/Beihai/Year 1/Chunks/Huang_ Pete the cat Day 4-007[8].wav\n",
      "/tamu_hw/csce_fall2021/csce606/ILOI/src/data/Beihai/Year 1/Chunks/Huang_ Pete the cat Day 4-007[9].wav\n",
      "/tamu_hw/csce_fall2021/csce606/ILOI/src/data/Beihai/Year 1/Chunks/Huang_ Pete the cat Day 4-007[10].wav\n",
      "/tamu_hw/csce_fall2021/csce606/ILOI/src/data/Beihai/Year 1/Chunks/Huang_ Pete the cat Day 4-007[11].wav\n",
      "/tamu_hw/csce_fall2021/csce606/ILOI/src/data/Beihai/Year 1/Chunks/Huang_ Pete the cat Day 4-007[12].wav\n",
      "/tamu_hw/csce_fall2021/csce606/ILOI/src/data/Beihai/Year 1/Chunks/Huang_ Pete the cat Day 4-007[13].wav\n",
      "/tamu_hw/csce_fall2021/csce606/ILOI/src/data/Beihai/Year 1/Chunks/Huang_ Pete the cat Day 4-007[14].wav\n",
      "/tamu_hw/csce_fall2021/csce606/ILOI/src/data/Beihai/Year 1/Chunks/Huang_ Pete the cat Day 4-007[15].wav\n",
      "/tamu_hw/csce_fall2021/csce606/ILOI/src/data/Beihai/Year 1/Chunks/Huang_ Pete the cat Day 4-007[16].wav\n",
      "/tamu_hw/csce_fall2021/csce606/ILOI/src/data/Beihai/Year 1/Chunks/Huang_ Pete the cat Day 4-007[17].wav\n",
      "/tamu_hw/csce_fall2021/csce606/ILOI/src/data/Beihai/Year 1/Chunks/Huang_ Pete the cat Day 4-007[18].wav\n",
      "/tamu_hw/csce_fall2021/csce606/ILOI/src/data/Beihai/Year 1/Chunks/Huang_ Pete the cat Day 4-007[19].wav\n",
      "/tamu_hw/csce_fall2021/csce606/ILOI/src/data/Beihai/Year 1/Chunks/Huang_ Pete the cat Day 4-007[20].wav\n",
      "/tamu_hw/csce_fall2021/csce606/ILOI/src/data/Beihai/Year 1/Chunks/Huang_ Pete the cat Day 4-007[21].wav\n",
      "/tamu_hw/csce_fall2021/csce606/ILOI/src/data/Beihai/Year 1/Chunks/Huang_ Pete the cat Day 4-007[22].wav\n",
      "/tamu_hw/csce_fall2021/csce606/ILOI/src/data/Beihai/Year 1/Chunks/Huang_ Pete the cat Day 4-007[23].wav\n",
      "/tamu_hw/csce_fall2021/csce606/ILOI/src/data/Beihai/Year 1/Chunks/Huang_ Pete the cat Day 4-007[24].wav\n",
      "/tamu_hw/csce_fall2021/csce606/ILOI/src/data/Beihai/Year 1/Chunks/Huang_ Pete the cat Day 4-007[25].wav\n",
      "/tamu_hw/csce_fall2021/csce606/ILOI/src/data/Beihai/Year 1/Chunks/Huang_ Pete the cat Day 4-007[26].wav\n",
      "/tamu_hw/csce_fall2021/csce606/ILOI/src/data/Beihai/Year 1/Chunks/Huang_ Pete the cat Day 4-007[27].wav\n",
      "/tamu_hw/csce_fall2021/csce606/ILOI/src/data/Beihai/Year 1/Chunks/Huang_ Pete the cat Day 4-007[28].wav\n",
      "/tamu_hw/csce_fall2021/csce606/ILOI/src/data/Beihai/Year 1/Chunks/Huang_ Pete the cat Day 4-007[29].wav\n",
      "/tamu_hw/csce_fall2021/csce606/ILOI/src/data/Beihai/Year 1/Chunks/Huang_ Pete the cat Day 4-007[30].wav\n",
      "/tamu_hw/csce_fall2021/csce606/ILOI/src/data/Beihai/Year 1/Chunks/Huang_ Pete the cat Day 4-007[31].wav\n",
      "/tamu_hw/csce_fall2021/csce606/ILOI/src/data/Beihai/Year 1/Chunks/Huang_ Pete the cat Day 4-007[32].wav\n",
      "/tamu_hw/csce_fall2021/csce606/ILOI/src/data/Beihai/Year 1/Chunks/Huang_ Pete the cat Day 4-007[33].wav\n",
      "/tamu_hw/csce_fall2021/csce606/ILOI/src/data/Beihai/Year 1/Chunks/Huang_ Pete the cat Day 4-007[34].wav\n",
      "/tamu_hw/csce_fall2021/csce606/ILOI/src/data/Beihai/Year 1/Chunks/Huang_ Pete the cat Day 4-007[35].wav\n",
      "/tamu_hw/csce_fall2021/csce606/ILOI/src/data/Beihai/Year 1/Chunks/Huang_ Pete the cat Day 4-007[36].wav\n",
      "/tamu_hw/csce_fall2021/csce606/ILOI/src/data/Beihai/Year 1/Chunks/Huang_ Pete the cat Day 4-007[37].wav\n",
      "/tamu_hw/csce_fall2021/csce606/ILOI/src/data/Beihai/Year 1/Chunks/Huang_ Pete the cat Day 4-007[38].wav\n",
      "/tamu_hw/csce_fall2021/csce606/ILOI/src/data/Beihai/Year 1/Chunks/Huang_ Pete the cat Day 4-007[39].wav\n",
      "/tamu_hw/csce_fall2021/csce606/ILOI/src/data/Beihai/Year 1/Chunks/Huang_ Pete the cat Day 4-007[40].wav\n",
      "/tamu_hw/csce_fall2021/csce606/ILOI/src/data/Beihai/Year 1/Chunks/Huang_ Pete the cat Day 4-007[41].wav\n",
      "/tamu_hw/csce_fall2021/csce606/ILOI/src/data/Beihai/Year 1/Chunks/Huang_ Pete the cat Day 4-007[42].wav\n",
      "/tamu_hw/csce_fall2021/csce606/ILOI/src/data/Beihai/Year 1/Chunks/Huang_ Pete the cat Day 4-007[43].wav\n",
      "/tamu_hw/csce_fall2021/csce606/ILOI/src/data/Beihai/Year 1/Chunks/Huang_ Pete the cat Day 4-007[44].wav\n",
      "/tamu_hw/csce_fall2021/csce606/ILOI/src/data/Beihai/Year 1/Chunks/Huang_ Pete the cat Day 4-007[45].wav\n",
      "/tamu_hw/csce_fall2021/csce606/ILOI/src/data/Beihai/Year 1/Chunks/Huang_ Pete the cat Day 4-007[46].wav\n",
      "/tamu_hw/csce_fall2021/csce606/ILOI/src/data/Beihai/Year 1/Chunks/Huang_ Pete the cat Day 4-007[47].wav\n",
      "/tamu_hw/csce_fall2021/csce606/ILOI/src/data/Beihai/Year 1/Chunks/Huang_ Pete the cat Day 4-007[48].wav\n",
      "/tamu_hw/csce_fall2021/csce606/ILOI/src/data/Beihai/Year 1/Chunks/Huang_ Pete the cat Day 4-007[49].wav\n",
      "/tamu_hw/csce_fall2021/csce606/ILOI/src/data/Beihai/Year 1/Chunks/Huang_ Pete the cat Day 4-007[50].wav\n",
      "/tamu_hw/csce_fall2021/csce606/ILOI/src/data/Beihai/Year 1/Chunks/Huang_ Pete the cat Day 4-007[51].wav\n",
      "/tamu_hw/csce_fall2021/csce606/ILOI/src/data/Beihai/Year 1/Chunks/Huang_ Pete the cat Day 4-007[52].wav\n",
      "/tamu_hw/csce_fall2021/csce606/ILOI/src/data/Beihai/Year 1/Chunks/Huang_ Pete the cat Day 4-007[53].wav\n",
      "/tamu_hw/csce_fall2021/csce606/ILOI/src/data/Beihai/Year 1/Chunks/Huang_ Pete the cat Day 4-007[54].wav\n",
      "/tamu_hw/csce_fall2021/csce606/ILOI/src/data/Beihai/Year 1/Chunks/Huang_ Pete the cat Day 4-007[55].wav\n",
      "/tamu_hw/csce_fall2021/csce606/ILOI/src/data/Beihai/Year 1/Chunks/Huang_ Pete the cat Day 4-007[56].wav\n",
      "/tamu_hw/csce_fall2021/csce606/ILOI/src/data/Beihai/Year 1/Chunks/Huang_ Pete the cat Day 4-007[57].wav\n",
      "/tamu_hw/csce_fall2021/csce606/ILOI/src/data/Beihai/Year 1/Chunks/Huang_ Pete the cat Day 4-007[58].wav\n",
      "/tamu_hw/csce_fall2021/csce606/ILOI/src/data/Beihai/Year 1/Chunks/Huang_ Pete the cat Day 4-007[59].wav\n"
     ]
    },
    {
     "name": "stdout",
     "output_type": "stream",
     "text": [
      "/tamu_hw/csce_fall2021/csce606/ILOI/src/data/Beihai/Year 1/Chunks/Huang_ Stop and go Day 1[0].wav\n",
      "/tamu_hw/csce_fall2021/csce606/ILOI/src/data/Beihai/Year 1/Chunks/Huang_ Stop and go Day 1[1].wav\n",
      "/tamu_hw/csce_fall2021/csce606/ILOI/src/data/Beihai/Year 1/Chunks/Huang_ Stop and go Day 1[2].wav\n",
      "/tamu_hw/csce_fall2021/csce606/ILOI/src/data/Beihai/Year 1/Chunks/Huang_ Stop and go Day 1[3].wav\n",
      "/tamu_hw/csce_fall2021/csce606/ILOI/src/data/Beihai/Year 1/Chunks/Huang_ Stop and go Day 1[4].wav\n",
      "/tamu_hw/csce_fall2021/csce606/ILOI/src/data/Beihai/Year 1/Chunks/Huang_ Stop and go Day 1[5].wav\n",
      "/tamu_hw/csce_fall2021/csce606/ILOI/src/data/Beihai/Year 1/Chunks/Huang_ Stop and go Day 1[6].wav\n",
      "/tamu_hw/csce_fall2021/csce606/ILOI/src/data/Beihai/Year 1/Chunks/Huang_ Stop and go Day 1[7].wav\n",
      "/tamu_hw/csce_fall2021/csce606/ILOI/src/data/Beihai/Year 1/Chunks/Huang_ Stop and go Day 1[8].wav\n",
      "/tamu_hw/csce_fall2021/csce606/ILOI/src/data/Beihai/Year 1/Chunks/Huang_ Stop and go Day 1[9].wav\n",
      "/tamu_hw/csce_fall2021/csce606/ILOI/src/data/Beihai/Year 1/Chunks/Huang_ Stop and go Day 1[10].wav\n",
      "/tamu_hw/csce_fall2021/csce606/ILOI/src/data/Beihai/Year 1/Chunks/Huang_ Stop and go Day 1[11].wav\n",
      "/tamu_hw/csce_fall2021/csce606/ILOI/src/data/Beihai/Year 1/Chunks/Huang_ Stop and go Day 1[12].wav\n",
      "/tamu_hw/csce_fall2021/csce606/ILOI/src/data/Beihai/Year 1/Chunks/Huang_ Stop and go Day 1[13].wav\n",
      "/tamu_hw/csce_fall2021/csce606/ILOI/src/data/Beihai/Year 1/Chunks/Huang_ Stop and go Day 1[14].wav\n",
      "/tamu_hw/csce_fall2021/csce606/ILOI/src/data/Beihai/Year 1/Chunks/Huang_ Stop and go Day 1[15].wav\n",
      "/tamu_hw/csce_fall2021/csce606/ILOI/src/data/Beihai/Year 1/Chunks/Huang_ Stop and go Day 1[16].wav\n",
      "/tamu_hw/csce_fall2021/csce606/ILOI/src/data/Beihai/Year 1/Chunks/Huang_ Stop and go Day 1[17].wav\n",
      "/tamu_hw/csce_fall2021/csce606/ILOI/src/data/Beihai/Year 1/Chunks/Huang_ Stop and go Day 1[18].wav\n",
      "/tamu_hw/csce_fall2021/csce606/ILOI/src/data/Beihai/Year 1/Chunks/Huang_ Stop and go Day 1[19].wav\n",
      "/tamu_hw/csce_fall2021/csce606/ILOI/src/data/Beihai/Year 1/Chunks/Huang_ Stop and go Day 1[20].wav\n",
      "/tamu_hw/csce_fall2021/csce606/ILOI/src/data/Beihai/Year 1/Chunks/Huang_ Stop and go Day 1[21].wav\n",
      "/tamu_hw/csce_fall2021/csce606/ILOI/src/data/Beihai/Year 1/Chunks/Huang_ Stop and go Day 1[22].wav\n",
      "/tamu_hw/csce_fall2021/csce606/ILOI/src/data/Beihai/Year 1/Chunks/Huang_ Stop and go Day 1[23].wav\n",
      "/tamu_hw/csce_fall2021/csce606/ILOI/src/data/Beihai/Year 1/Chunks/Huang_ Stop and go Day 1[24].wav\n",
      "/tamu_hw/csce_fall2021/csce606/ILOI/src/data/Beihai/Year 1/Chunks/Huang_ Stop and go Day 1[25].wav\n",
      "/tamu_hw/csce_fall2021/csce606/ILOI/src/data/Beihai/Year 1/Chunks/Huang_ Stop and go Day 1[26].wav\n",
      "/tamu_hw/csce_fall2021/csce606/ILOI/src/data/Beihai/Year 1/Chunks/Huang_ Stop and go Day 1[27].wav\n",
      "/tamu_hw/csce_fall2021/csce606/ILOI/src/data/Beihai/Year 1/Chunks/Huang_ Stop and go Day 1[28].wav\n",
      "/tamu_hw/csce_fall2021/csce606/ILOI/src/data/Beihai/Year 1/Chunks/Huang_ Stop and go Day 1[29].wav\n",
      "/tamu_hw/csce_fall2021/csce606/ILOI/src/data/Beihai/Year 1/Chunks/Huang_ Stop and go Day 1[30].wav\n",
      "/tamu_hw/csce_fall2021/csce606/ILOI/src/data/Beihai/Year 1/Chunks/Huang_ Stop and go Day 1[31].wav\n",
      "/tamu_hw/csce_fall2021/csce606/ILOI/src/data/Beihai/Year 1/Chunks/Huang_ Stop and go Day 1[32].wav\n",
      "/tamu_hw/csce_fall2021/csce606/ILOI/src/data/Beihai/Year 1/Chunks/Huang_ Stop and go Day 1[33].wav\n",
      "/tamu_hw/csce_fall2021/csce606/ILOI/src/data/Beihai/Year 1/Chunks/Huang_ Stop and go Day 1[34].wav\n",
      "/tamu_hw/csce_fall2021/csce606/ILOI/src/data/Beihai/Year 1/Chunks/Huang_ Stop and go Day 1[35].wav\n",
      "/tamu_hw/csce_fall2021/csce606/ILOI/src/data/Beihai/Year 1/Chunks/Huang_ Stop and go Day 1[36].wav\n",
      "/tamu_hw/csce_fall2021/csce606/ILOI/src/data/Beihai/Year 1/Chunks/Huang_ Stop and go Day 1[37].wav\n",
      "/tamu_hw/csce_fall2021/csce606/ILOI/src/data/Beihai/Year 1/Chunks/Huang_ Stop and go Day 1[38].wav\n",
      "/tamu_hw/csce_fall2021/csce606/ILOI/src/data/Beihai/Year 1/Chunks/Huang_ Stop and go Day 1[39].wav\n",
      "/tamu_hw/csce_fall2021/csce606/ILOI/src/data/Beihai/Year 1/Chunks/Huang_ Stop and go Day 1[40].wav\n",
      "/tamu_hw/csce_fall2021/csce606/ILOI/src/data/Beihai/Year 1/Chunks/Huang_ Stop and go Day 1[41].wav\n",
      "/tamu_hw/csce_fall2021/csce606/ILOI/src/data/Beihai/Year 1/Chunks/Huang_ Stop and go Day 1[42].wav\n",
      "/tamu_hw/csce_fall2021/csce606/ILOI/src/data/Beihai/Year 1/Chunks/Huang_ Stop and go Day 1[43].wav\n",
      "/tamu_hw/csce_fall2021/csce606/ILOI/src/data/Beihai/Year 1/Chunks/Huang_ Stop and go Day 1[44].wav\n",
      "/tamu_hw/csce_fall2021/csce606/ILOI/src/data/Beihai/Year 1/Chunks/Huang_ Stop and go Day 1[45].wav\n",
      "/tamu_hw/csce_fall2021/csce606/ILOI/src/data/Beihai/Year 1/Chunks/Huang_ Stop and go Day 1[46].wav\n",
      "/tamu_hw/csce_fall2021/csce606/ILOI/src/data/Beihai/Year 1/Chunks/Huang_ Stop and go Day 1[47].wav\n",
      "/tamu_hw/csce_fall2021/csce606/ILOI/src/data/Beihai/Year 1/Chunks/Huang_ Stop and go Day 1[48].wav\n",
      "/tamu_hw/csce_fall2021/csce606/ILOI/src/data/Beihai/Year 1/Chunks/Huang_ Stop and go Day 1[49].wav\n",
      "/tamu_hw/csce_fall2021/csce606/ILOI/src/data/Beihai/Year 1/Chunks/Huang_ Stop and go Day 1[50].wav\n",
      "/tamu_hw/csce_fall2021/csce606/ILOI/src/data/Beihai/Year 1/Chunks/Huang_ Stop and go Day 1[51].wav\n",
      "/tamu_hw/csce_fall2021/csce606/ILOI/src/data/Beihai/Year 1/Chunks/Huang_ Stop and go Day 1[52].wav\n",
      "/tamu_hw/csce_fall2021/csce606/ILOI/src/data/Beihai/Year 1/Chunks/Huang_ Stop and go Day 1[53].wav\n",
      "/tamu_hw/csce_fall2021/csce606/ILOI/src/data/Beihai/Year 1/Chunks/Huang_ Stop and go Day 1[54].wav\n",
      "/tamu_hw/csce_fall2021/csce606/ILOI/src/data/Beihai/Year 1/Chunks/Huang_ Stop and go Day 1[55].wav\n",
      "/tamu_hw/csce_fall2021/csce606/ILOI/src/data/Beihai/Year 1/Chunks/Huang_ Stop and go Day 1[56].wav\n",
      "/tamu_hw/csce_fall2021/csce606/ILOI/src/data/Beihai/Year 1/Chunks/Huang_ Stop and go Day 1[57].wav\n",
      "/tamu_hw/csce_fall2021/csce606/ILOI/src/data/Beihai/Year 1/Chunks/Huang_ Stop and go Day 1[58].wav\n",
      "/tamu_hw/csce_fall2021/csce606/ILOI/src/data/Beihai/Year 1/Chunks/Huang_ Stop and go Day 1[59].wav\n",
      "/tamu_hw/csce_fall2021/csce606/ILOI/src/data/Beihai/Year 1/Chunks/Huang_ The princess and the pea-010[0].wav\n",
      "/tamu_hw/csce_fall2021/csce606/ILOI/src/data/Beihai/Year 1/Chunks/Huang_ The princess and the pea-010[1].wav\n",
      "/tamu_hw/csce_fall2021/csce606/ILOI/src/data/Beihai/Year 1/Chunks/Huang_ The princess and the pea-010[2].wav\n",
      "/tamu_hw/csce_fall2021/csce606/ILOI/src/data/Beihai/Year 1/Chunks/Huang_ The princess and the pea-010[3].wav\n",
      "/tamu_hw/csce_fall2021/csce606/ILOI/src/data/Beihai/Year 1/Chunks/Huang_ The princess and the pea-010[4].wav\n",
      "/tamu_hw/csce_fall2021/csce606/ILOI/src/data/Beihai/Year 1/Chunks/Huang_ The princess and the pea-010[5].wav\n",
      "/tamu_hw/csce_fall2021/csce606/ILOI/src/data/Beihai/Year 1/Chunks/Huang_ The princess and the pea-010[6].wav\n",
      "/tamu_hw/csce_fall2021/csce606/ILOI/src/data/Beihai/Year 1/Chunks/Huang_ The princess and the pea-010[7].wav\n",
      "/tamu_hw/csce_fall2021/csce606/ILOI/src/data/Beihai/Year 1/Chunks/Huang_ The princess and the pea-010[8].wav\n",
      "/tamu_hw/csce_fall2021/csce606/ILOI/src/data/Beihai/Year 1/Chunks/Huang_ The princess and the pea-010[9].wav\n",
      "/tamu_hw/csce_fall2021/csce606/ILOI/src/data/Beihai/Year 1/Chunks/Huang_ The princess and the pea-010[10].wav\n",
      "/tamu_hw/csce_fall2021/csce606/ILOI/src/data/Beihai/Year 1/Chunks/Huang_ The princess and the pea-010[11].wav\n",
      "/tamu_hw/csce_fall2021/csce606/ILOI/src/data/Beihai/Year 1/Chunks/Huang_ The princess and the pea-010[12].wav\n",
      "/tamu_hw/csce_fall2021/csce606/ILOI/src/data/Beihai/Year 1/Chunks/Huang_ The princess and the pea-010[13].wav\n",
      "/tamu_hw/csce_fall2021/csce606/ILOI/src/data/Beihai/Year 1/Chunks/Huang_ The princess and the pea-010[14].wav\n",
      "/tamu_hw/csce_fall2021/csce606/ILOI/src/data/Beihai/Year 1/Chunks/Huang_ The princess and the pea-010[15].wav\n",
      "/tamu_hw/csce_fall2021/csce606/ILOI/src/data/Beihai/Year 1/Chunks/Huang_ The princess and the pea-010[16].wav\n",
      "/tamu_hw/csce_fall2021/csce606/ILOI/src/data/Beihai/Year 1/Chunks/Huang_ The princess and the pea-010[17].wav\n",
      "/tamu_hw/csce_fall2021/csce606/ILOI/src/data/Beihai/Year 1/Chunks/Huang_ The princess and the pea-010[18].wav\n",
      "/tamu_hw/csce_fall2021/csce606/ILOI/src/data/Beihai/Year 1/Chunks/Huang_ The princess and the pea-010[19].wav\n",
      "/tamu_hw/csce_fall2021/csce606/ILOI/src/data/Beihai/Year 1/Chunks/Huang_ The princess and the pea-010[20].wav\n",
      "/tamu_hw/csce_fall2021/csce606/ILOI/src/data/Beihai/Year 1/Chunks/Huang_ The princess and the pea-010[21].wav\n",
      "/tamu_hw/csce_fall2021/csce606/ILOI/src/data/Beihai/Year 1/Chunks/Huang_ The princess and the pea-010[22].wav\n",
      "/tamu_hw/csce_fall2021/csce606/ILOI/src/data/Beihai/Year 1/Chunks/Huang_ The princess and the pea-010[23].wav\n",
      "/tamu_hw/csce_fall2021/csce606/ILOI/src/data/Beihai/Year 1/Chunks/Huang_ The princess and the pea-010[24].wav\n",
      "/tamu_hw/csce_fall2021/csce606/ILOI/src/data/Beihai/Year 1/Chunks/Huang_ The princess and the pea-010[25].wav\n",
      "/tamu_hw/csce_fall2021/csce606/ILOI/src/data/Beihai/Year 1/Chunks/Huang_ The princess and the pea-010[26].wav\n",
      "/tamu_hw/csce_fall2021/csce606/ILOI/src/data/Beihai/Year 1/Chunks/Huang_ The princess and the pea-010[27].wav\n",
      "/tamu_hw/csce_fall2021/csce606/ILOI/src/data/Beihai/Year 1/Chunks/Huang_ The princess and the pea-010[28].wav\n",
      "/tamu_hw/csce_fall2021/csce606/ILOI/src/data/Beihai/Year 1/Chunks/Huang_ The princess and the pea-010[29].wav\n",
      "/tamu_hw/csce_fall2021/csce606/ILOI/src/data/Beihai/Year 1/Chunks/Huang_ The princess and the pea-010[30].wav\n",
      "/tamu_hw/csce_fall2021/csce606/ILOI/src/data/Beihai/Year 1/Chunks/Huang_ The princess and the pea-010[31].wav\n",
      "/tamu_hw/csce_fall2021/csce606/ILOI/src/data/Beihai/Year 1/Chunks/Huang_ The princess and the pea-010[32].wav\n",
      "/tamu_hw/csce_fall2021/csce606/ILOI/src/data/Beihai/Year 1/Chunks/Huang_ The princess and the pea-010[33].wav\n",
      "/tamu_hw/csce_fall2021/csce606/ILOI/src/data/Beihai/Year 1/Chunks/Huang_ The princess and the pea-010[34].wav\n",
      "/tamu_hw/csce_fall2021/csce606/ILOI/src/data/Beihai/Year 1/Chunks/Huang_ The princess and the pea-010[35].wav\n"
     ]
    },
    {
     "name": "stdout",
     "output_type": "stream",
     "text": [
      "/tamu_hw/csce_fall2021/csce606/ILOI/src/data/Beihai/Year 1/Chunks/Huang_ The princess and the pea-010[36].wav\n",
      "/tamu_hw/csce_fall2021/csce606/ILOI/src/data/Beihai/Year 1/Chunks/Huang_ The princess and the pea-010[37].wav\n",
      "/tamu_hw/csce_fall2021/csce606/ILOI/src/data/Beihai/Year 1/Chunks/Huang_ The princess and the pea-010[38].wav\n",
      "/tamu_hw/csce_fall2021/csce606/ILOI/src/data/Beihai/Year 1/Chunks/Huang_ The princess and the pea-010[39].wav\n",
      "/tamu_hw/csce_fall2021/csce606/ILOI/src/data/Beihai/Year 1/Chunks/Huang_ The princess and the pea-010[40].wav\n",
      "/tamu_hw/csce_fall2021/csce606/ILOI/src/data/Beihai/Year 1/Chunks/Huang_ The princess and the pea-010[41].wav\n",
      "/tamu_hw/csce_fall2021/csce606/ILOI/src/data/Beihai/Year 1/Chunks/Huang_ The princess and the pea-010[42].wav\n",
      "/tamu_hw/csce_fall2021/csce606/ILOI/src/data/Beihai/Year 1/Chunks/Huang_ The princess and the pea-010[43].wav\n",
      "/tamu_hw/csce_fall2021/csce606/ILOI/src/data/Beihai/Year 1/Chunks/Huang_ The princess and the pea-010[44].wav\n",
      "/tamu_hw/csce_fall2021/csce606/ILOI/src/data/Beihai/Year 1/Chunks/Huang_ The princess and the pea-010[45].wav\n",
      "/tamu_hw/csce_fall2021/csce606/ILOI/src/data/Beihai/Year 1/Chunks/Huang_ The princess and the pea-010[46].wav\n",
      "/tamu_hw/csce_fall2021/csce606/ILOI/src/data/Beihai/Year 1/Chunks/Huang_ The princess and the pea-010[47].wav\n",
      "/tamu_hw/csce_fall2021/csce606/ILOI/src/data/Beihai/Year 1/Chunks/Huang_ The princess and the pea-010[48].wav\n",
      "/tamu_hw/csce_fall2021/csce606/ILOI/src/data/Beihai/Year 1/Chunks/Huang_ The princess and the pea-010[49].wav\n",
      "/tamu_hw/csce_fall2021/csce606/ILOI/src/data/Beihai/Year 1/Chunks/Huang_ The princess and the pea-010[50].wav\n",
      "/tamu_hw/csce_fall2021/csce606/ILOI/src/data/Beihai/Year 1/Chunks/Huang_ The princess and the pea-010[51].wav\n",
      "/tamu_hw/csce_fall2021/csce606/ILOI/src/data/Beihai/Year 1/Chunks/Huang_ The princess and the pea-010[52].wav\n",
      "/tamu_hw/csce_fall2021/csce606/ILOI/src/data/Beihai/Year 1/Chunks/Huang_ The princess and the pea-010[53].wav\n",
      "/tamu_hw/csce_fall2021/csce606/ILOI/src/data/Beihai/Year 1/Chunks/Huang_ The princess and the pea-010[54].wav\n",
      "/tamu_hw/csce_fall2021/csce606/ILOI/src/data/Beihai/Year 1/Chunks/Huang_ The princess and the pea-010[55].wav\n",
      "/tamu_hw/csce_fall2021/csce606/ILOI/src/data/Beihai/Year 1/Chunks/Huang_ The princess and the pea-010[56].wav\n",
      "/tamu_hw/csce_fall2021/csce606/ILOI/src/data/Beihai/Year 1/Chunks/Huang_ The princess and the pea-010[57].wav\n",
      "/tamu_hw/csce_fall2021/csce606/ILOI/src/data/Beihai/Year 1/Chunks/Huang_ The princess and the pea-010[58].wav\n",
      "/tamu_hw/csce_fall2021/csce606/ILOI/src/data/Beihai/Year 1/Chunks/Huang_ The princess and the pea-010[59].wav\n",
      "/tamu_hw/csce_fall2021/csce606/ILOI/src/data/Beihai/Year 1/Chunks/Lily_ Cowboy Mouse Day 2-005[0].wav\n",
      "/tamu_hw/csce_fall2021/csce606/ILOI/src/data/Beihai/Year 1/Chunks/Lily_ Cowboy Mouse Day 2-005[1].wav\n",
      "/tamu_hw/csce_fall2021/csce606/ILOI/src/data/Beihai/Year 1/Chunks/Lily_ Cowboy Mouse Day 2-005[2].wav\n",
      "/tamu_hw/csce_fall2021/csce606/ILOI/src/data/Beihai/Year 1/Chunks/Lily_ Cowboy Mouse Day 2-005[3].wav\n",
      "/tamu_hw/csce_fall2021/csce606/ILOI/src/data/Beihai/Year 1/Chunks/Lily_ Cowboy Mouse Day 2-005[4].wav\n",
      "/tamu_hw/csce_fall2021/csce606/ILOI/src/data/Beihai/Year 1/Chunks/Lily_ Cowboy Mouse Day 2-005[5].wav\n",
      "/tamu_hw/csce_fall2021/csce606/ILOI/src/data/Beihai/Year 1/Chunks/Lily_ Cowboy Mouse Day 2-005[6].wav\n",
      "/tamu_hw/csce_fall2021/csce606/ILOI/src/data/Beihai/Year 1/Chunks/Lily_ Cowboy Mouse Day 2-005[7].wav\n",
      "/tamu_hw/csce_fall2021/csce606/ILOI/src/data/Beihai/Year 1/Chunks/Lily_ Cowboy Mouse Day 2-005[8].wav\n",
      "/tamu_hw/csce_fall2021/csce606/ILOI/src/data/Beihai/Year 1/Chunks/Lily_ Cowboy Mouse Day 2-005[9].wav\n",
      "/tamu_hw/csce_fall2021/csce606/ILOI/src/data/Beihai/Year 1/Chunks/Lily_ Cowboy Mouse Day 2-005[10].wav\n",
      "/tamu_hw/csce_fall2021/csce606/ILOI/src/data/Beihai/Year 1/Chunks/Lily_ Cowboy Mouse Day 2-005[11].wav\n",
      "/tamu_hw/csce_fall2021/csce606/ILOI/src/data/Beihai/Year 1/Chunks/Lily_ Cowboy Mouse Day 2-005[12].wav\n",
      "/tamu_hw/csce_fall2021/csce606/ILOI/src/data/Beihai/Year 1/Chunks/Lily_ Cowboy Mouse Day 2-005[13].wav\n",
      "/tamu_hw/csce_fall2021/csce606/ILOI/src/data/Beihai/Year 1/Chunks/Lily_ Cowboy Mouse Day 2-005[14].wav\n",
      "/tamu_hw/csce_fall2021/csce606/ILOI/src/data/Beihai/Year 1/Chunks/Lily_ Cowboy Mouse Day 2-005[15].wav\n",
      "/tamu_hw/csce_fall2021/csce606/ILOI/src/data/Beihai/Year 1/Chunks/Lily_ Cowboy Mouse Day 2-005[16].wav\n",
      "/tamu_hw/csce_fall2021/csce606/ILOI/src/data/Beihai/Year 1/Chunks/Lily_ Cowboy Mouse Day 2-005[17].wav\n",
      "/tamu_hw/csce_fall2021/csce606/ILOI/src/data/Beihai/Year 1/Chunks/Lily_ Cowboy Mouse Day 2-005[18].wav\n",
      "/tamu_hw/csce_fall2021/csce606/ILOI/src/data/Beihai/Year 1/Chunks/Lily_ Cowboy Mouse Day 2-005[19].wav\n",
      "/tamu_hw/csce_fall2021/csce606/ILOI/src/data/Beihai/Year 1/Chunks/Lily_ Cowboy Mouse Day 2-005[20].wav\n",
      "/tamu_hw/csce_fall2021/csce606/ILOI/src/data/Beihai/Year 1/Chunks/Lily_ Cowboy Mouse Day 2-005[21].wav\n",
      "/tamu_hw/csce_fall2021/csce606/ILOI/src/data/Beihai/Year 1/Chunks/Lily_ Cowboy Mouse Day 2-005[22].wav\n",
      "/tamu_hw/csce_fall2021/csce606/ILOI/src/data/Beihai/Year 1/Chunks/Lily_ Cowboy Mouse Day 2-005[23].wav\n",
      "/tamu_hw/csce_fall2021/csce606/ILOI/src/data/Beihai/Year 1/Chunks/Lily_ Cowboy Mouse Day 2-005[24].wav\n",
      "/tamu_hw/csce_fall2021/csce606/ILOI/src/data/Beihai/Year 1/Chunks/Lily_ Cowboy Mouse Day 2-005[25].wav\n",
      "/tamu_hw/csce_fall2021/csce606/ILOI/src/data/Beihai/Year 1/Chunks/Lily_ Cowboy Mouse Day 2-005[26].wav\n",
      "/tamu_hw/csce_fall2021/csce606/ILOI/src/data/Beihai/Year 1/Chunks/Lily_ Cowboy Mouse Day 2-005[27].wav\n",
      "/tamu_hw/csce_fall2021/csce606/ILOI/src/data/Beihai/Year 1/Chunks/Lily_ Cowboy Mouse Day 2-005[28].wav\n",
      "/tamu_hw/csce_fall2021/csce606/ILOI/src/data/Beihai/Year 1/Chunks/Lily_ Cowboy Mouse Day 2-005[29].wav\n",
      "/tamu_hw/csce_fall2021/csce606/ILOI/src/data/Beihai/Year 1/Chunks/Lily_ Cowboy Mouse Day 2-005[30].wav\n",
      "/tamu_hw/csce_fall2021/csce606/ILOI/src/data/Beihai/Year 1/Chunks/Lily_ Cowboy Mouse Day 2-005[31].wav\n",
      "/tamu_hw/csce_fall2021/csce606/ILOI/src/data/Beihai/Year 1/Chunks/Lily_ Cowboy Mouse Day 2-005[32].wav\n",
      "/tamu_hw/csce_fall2021/csce606/ILOI/src/data/Beihai/Year 1/Chunks/Lily_ Cowboy Mouse Day 2-005[33].wav\n",
      "/tamu_hw/csce_fall2021/csce606/ILOI/src/data/Beihai/Year 1/Chunks/Lily_ Cowboy Mouse Day 2-005[34].wav\n",
      "/tamu_hw/csce_fall2021/csce606/ILOI/src/data/Beihai/Year 1/Chunks/Lily_ Cowboy Mouse Day 2-005[35].wav\n",
      "/tamu_hw/csce_fall2021/csce606/ILOI/src/data/Beihai/Year 1/Chunks/Lily_ Cowboy Mouse Day 2-005[36].wav\n",
      "/tamu_hw/csce_fall2021/csce606/ILOI/src/data/Beihai/Year 1/Chunks/Lily_ Cowboy Mouse Day 2-005[37].wav\n",
      "/tamu_hw/csce_fall2021/csce606/ILOI/src/data/Beihai/Year 1/Chunks/Lily_ Cowboy Mouse Day 2-005[38].wav\n",
      "/tamu_hw/csce_fall2021/csce606/ILOI/src/data/Beihai/Year 1/Chunks/Lily_ Cowboy Mouse Day 2-005[39].wav\n",
      "/tamu_hw/csce_fall2021/csce606/ILOI/src/data/Beihai/Year 1/Chunks/Lily_ Cowboy Mouse Day 2-005[40].wav\n",
      "/tamu_hw/csce_fall2021/csce606/ILOI/src/data/Beihai/Year 1/Chunks/Lily_ Cowboy Mouse Day 2-005[41].wav\n",
      "/tamu_hw/csce_fall2021/csce606/ILOI/src/data/Beihai/Year 1/Chunks/Lily_ Cowboy Mouse Day 2-005[42].wav\n",
      "/tamu_hw/csce_fall2021/csce606/ILOI/src/data/Beihai/Year 1/Chunks/Lily_ Cowboy Mouse Day 2-005[43].wav\n",
      "/tamu_hw/csce_fall2021/csce606/ILOI/src/data/Beihai/Year 1/Chunks/Lily_ Cowboy Mouse Day 2-005[44].wav\n",
      "/tamu_hw/csce_fall2021/csce606/ILOI/src/data/Beihai/Year 1/Chunks/Lily_ Cowboy Mouse Day 2-005[45].wav\n",
      "/tamu_hw/csce_fall2021/csce606/ILOI/src/data/Beihai/Year 1/Chunks/Lily_ Cowboy Mouse Day 2-005[46].wav\n",
      "/tamu_hw/csce_fall2021/csce606/ILOI/src/data/Beihai/Year 1/Chunks/Lily_ Cowboy Mouse Day 2-005[47].wav\n",
      "/tamu_hw/csce_fall2021/csce606/ILOI/src/data/Beihai/Year 1/Chunks/Lily_ Cowboy Mouse Day 2-005[48].wav\n",
      "/tamu_hw/csce_fall2021/csce606/ILOI/src/data/Beihai/Year 1/Chunks/Lily_ Cowboy Mouse Day 2-005[49].wav\n",
      "/tamu_hw/csce_fall2021/csce606/ILOI/src/data/Beihai/Year 1/Chunks/Lily_ Cowboy Mouse Day 2-005[50].wav\n",
      "/tamu_hw/csce_fall2021/csce606/ILOI/src/data/Beihai/Year 1/Chunks/Lily_ Cowboy Mouse Day 2-005[51].wav\n",
      "/tamu_hw/csce_fall2021/csce606/ILOI/src/data/Beihai/Year 1/Chunks/Lily_ Cowboy Mouse Day 2-005[52].wav\n",
      "/tamu_hw/csce_fall2021/csce606/ILOI/src/data/Beihai/Year 1/Chunks/Lily_ Cowboy Mouse Day 2-005[53].wav\n",
      "/tamu_hw/csce_fall2021/csce606/ILOI/src/data/Beihai/Year 1/Chunks/Lily_ Cowboy Mouse Day 2-005[54].wav\n",
      "/tamu_hw/csce_fall2021/csce606/ILOI/src/data/Beihai/Year 1/Chunks/Lily_ Cowboy Mouse Day 2-005[55].wav\n",
      "/tamu_hw/csce_fall2021/csce606/ILOI/src/data/Beihai/Year 1/Chunks/Lily_ Cowboy Mouse Day 2-005[56].wav\n",
      "/tamu_hw/csce_fall2021/csce606/ILOI/src/data/Beihai/Year 1/Chunks/Lily_ Cowboy Mouse Day 2-005[57].wav\n",
      "/tamu_hw/csce_fall2021/csce606/ILOI/src/data/Beihai/Year 1/Chunks/Lily_ Cowboy Mouse Day 2-005[58].wav\n",
      "/tamu_hw/csce_fall2021/csce606/ILOI/src/data/Beihai/Year 1/Chunks/Lily_ Cowboy Mouse Day 2-005[59].wav\n"
     ]
    },
    {
     "name": "stdout",
     "output_type": "stream",
     "text": [
      "/tamu_hw/csce_fall2021/csce606/ILOI/src/data/Beihai/Year 1/Chunks/Lily_ Maisy goes camping Day 3[0].wav\n",
      "/tamu_hw/csce_fall2021/csce606/ILOI/src/data/Beihai/Year 1/Chunks/Lily_ Maisy goes camping Day 3[1].wav\n",
      "/tamu_hw/csce_fall2021/csce606/ILOI/src/data/Beihai/Year 1/Chunks/Lily_ Maisy goes camping Day 3[2].wav\n",
      "/tamu_hw/csce_fall2021/csce606/ILOI/src/data/Beihai/Year 1/Chunks/Lily_ Maisy goes camping Day 3[3].wav\n",
      "/tamu_hw/csce_fall2021/csce606/ILOI/src/data/Beihai/Year 1/Chunks/Lily_ Maisy goes camping Day 3[4].wav\n",
      "/tamu_hw/csce_fall2021/csce606/ILOI/src/data/Beihai/Year 1/Chunks/Lily_ Maisy goes camping Day 3[5].wav\n",
      "/tamu_hw/csce_fall2021/csce606/ILOI/src/data/Beihai/Year 1/Chunks/Lily_ Maisy goes camping Day 3[6].wav\n",
      "/tamu_hw/csce_fall2021/csce606/ILOI/src/data/Beihai/Year 1/Chunks/Lily_ Maisy goes camping Day 3[7].wav\n",
      "/tamu_hw/csce_fall2021/csce606/ILOI/src/data/Beihai/Year 1/Chunks/Lily_ Maisy goes camping Day 3[8].wav\n",
      "/tamu_hw/csce_fall2021/csce606/ILOI/src/data/Beihai/Year 1/Chunks/Lily_ Maisy goes camping Day 3[9].wav\n",
      "/tamu_hw/csce_fall2021/csce606/ILOI/src/data/Beihai/Year 1/Chunks/Lily_ Maisy goes camping Day 3[10].wav\n",
      "/tamu_hw/csce_fall2021/csce606/ILOI/src/data/Beihai/Year 1/Chunks/Lily_ Maisy goes camping Day 3[11].wav\n",
      "/tamu_hw/csce_fall2021/csce606/ILOI/src/data/Beihai/Year 1/Chunks/Lily_ Maisy goes camping Day 3[12].wav\n",
      "/tamu_hw/csce_fall2021/csce606/ILOI/src/data/Beihai/Year 1/Chunks/Lily_ Maisy goes camping Day 3[13].wav\n",
      "/tamu_hw/csce_fall2021/csce606/ILOI/src/data/Beihai/Year 1/Chunks/Lily_ Maisy goes camping Day 3[14].wav\n",
      "/tamu_hw/csce_fall2021/csce606/ILOI/src/data/Beihai/Year 1/Chunks/Lily_ Maisy goes camping Day 3[15].wav\n",
      "/tamu_hw/csce_fall2021/csce606/ILOI/src/data/Beihai/Year 1/Chunks/Lily_ Maisy goes camping Day 3[16].wav\n",
      "/tamu_hw/csce_fall2021/csce606/ILOI/src/data/Beihai/Year 1/Chunks/Lily_ Maisy goes camping Day 3[17].wav\n",
      "/tamu_hw/csce_fall2021/csce606/ILOI/src/data/Beihai/Year 1/Chunks/Lily_ Maisy goes camping Day 3[18].wav\n",
      "/tamu_hw/csce_fall2021/csce606/ILOI/src/data/Beihai/Year 1/Chunks/Lily_ Maisy goes camping Day 3[19].wav\n",
      "/tamu_hw/csce_fall2021/csce606/ILOI/src/data/Beihai/Year 1/Chunks/Lily_ Maisy goes camping Day 3[20].wav\n",
      "/tamu_hw/csce_fall2021/csce606/ILOI/src/data/Beihai/Year 1/Chunks/Lily_ Maisy goes camping Day 3[21].wav\n",
      "/tamu_hw/csce_fall2021/csce606/ILOI/src/data/Beihai/Year 1/Chunks/Lily_ Maisy goes camping Day 3[22].wav\n",
      "/tamu_hw/csce_fall2021/csce606/ILOI/src/data/Beihai/Year 1/Chunks/Lily_ Maisy goes camping Day 3[23].wav\n",
      "/tamu_hw/csce_fall2021/csce606/ILOI/src/data/Beihai/Year 1/Chunks/Lily_ Maisy goes camping Day 3[24].wav\n",
      "/tamu_hw/csce_fall2021/csce606/ILOI/src/data/Beihai/Year 1/Chunks/Lily_ Maisy goes camping Day 3[25].wav\n",
      "/tamu_hw/csce_fall2021/csce606/ILOI/src/data/Beihai/Year 1/Chunks/Lily_ Maisy goes camping Day 3[26].wav\n",
      "/tamu_hw/csce_fall2021/csce606/ILOI/src/data/Beihai/Year 1/Chunks/Lily_ Maisy goes camping Day 3[27].wav\n",
      "/tamu_hw/csce_fall2021/csce606/ILOI/src/data/Beihai/Year 1/Chunks/Lily_ Maisy goes camping Day 3[28].wav\n",
      "/tamu_hw/csce_fall2021/csce606/ILOI/src/data/Beihai/Year 1/Chunks/Lily_ Maisy goes camping Day 3[29].wav\n",
      "/tamu_hw/csce_fall2021/csce606/ILOI/src/data/Beihai/Year 1/Chunks/Lily_ Maisy goes camping Day 3[30].wav\n",
      "/tamu_hw/csce_fall2021/csce606/ILOI/src/data/Beihai/Year 1/Chunks/Lily_ Maisy goes camping Day 3[31].wav\n",
      "/tamu_hw/csce_fall2021/csce606/ILOI/src/data/Beihai/Year 1/Chunks/Lily_ Maisy goes camping Day 3[32].wav\n",
      "/tamu_hw/csce_fall2021/csce606/ILOI/src/data/Beihai/Year 1/Chunks/Lily_ Maisy goes camping Day 3[33].wav\n",
      "/tamu_hw/csce_fall2021/csce606/ILOI/src/data/Beihai/Year 1/Chunks/Lily_ Maisy goes camping Day 3[34].wav\n",
      "/tamu_hw/csce_fall2021/csce606/ILOI/src/data/Beihai/Year 1/Chunks/Lily_ Maisy goes camping Day 3[35].wav\n",
      "/tamu_hw/csce_fall2021/csce606/ILOI/src/data/Beihai/Year 1/Chunks/Lily_ Maisy goes camping Day 3[36].wav\n",
      "/tamu_hw/csce_fall2021/csce606/ILOI/src/data/Beihai/Year 1/Chunks/Lily_ Maisy goes camping Day 3[37].wav\n",
      "/tamu_hw/csce_fall2021/csce606/ILOI/src/data/Beihai/Year 1/Chunks/Lily_ Maisy goes camping Day 3[38].wav\n",
      "/tamu_hw/csce_fall2021/csce606/ILOI/src/data/Beihai/Year 1/Chunks/Lily_ Maisy goes camping Day 3[39].wav\n",
      "/tamu_hw/csce_fall2021/csce606/ILOI/src/data/Beihai/Year 1/Chunks/Lily_ Maisy goes camping Day 3[40].wav\n",
      "/tamu_hw/csce_fall2021/csce606/ILOI/src/data/Beihai/Year 1/Chunks/Lily_ Maisy goes camping Day 3[41].wav\n",
      "/tamu_hw/csce_fall2021/csce606/ILOI/src/data/Beihai/Year 1/Chunks/Lily_ Maisy goes camping Day 3[42].wav\n",
      "/tamu_hw/csce_fall2021/csce606/ILOI/src/data/Beihai/Year 1/Chunks/Lily_ Maisy goes camping Day 3[43].wav\n",
      "/tamu_hw/csce_fall2021/csce606/ILOI/src/data/Beihai/Year 1/Chunks/Lily_ Maisy goes camping Day 3[44].wav\n",
      "/tamu_hw/csce_fall2021/csce606/ILOI/src/data/Beihai/Year 1/Chunks/Lily_ Maisy goes camping Day 3[45].wav\n",
      "/tamu_hw/csce_fall2021/csce606/ILOI/src/data/Beihai/Year 1/Chunks/Lily_ Maisy goes camping Day 3[46].wav\n",
      "/tamu_hw/csce_fall2021/csce606/ILOI/src/data/Beihai/Year 1/Chunks/Lily_ Maisy goes camping Day 3[47].wav\n",
      "/tamu_hw/csce_fall2021/csce606/ILOI/src/data/Beihai/Year 1/Chunks/Lily_ Maisy goes camping Day 3[48].wav\n",
      "/tamu_hw/csce_fall2021/csce606/ILOI/src/data/Beihai/Year 1/Chunks/Lily_ Maisy goes camping Day 3[49].wav\n",
      "/tamu_hw/csce_fall2021/csce606/ILOI/src/data/Beihai/Year 1/Chunks/Lily_ Maisy goes camping Day 3[50].wav\n",
      "/tamu_hw/csce_fall2021/csce606/ILOI/src/data/Beihai/Year 1/Chunks/Lily_ Maisy goes camping Day 3[51].wav\n",
      "/tamu_hw/csce_fall2021/csce606/ILOI/src/data/Beihai/Year 1/Chunks/Lily_ Maisy goes camping Day 3[52].wav\n",
      "/tamu_hw/csce_fall2021/csce606/ILOI/src/data/Beihai/Year 1/Chunks/Lily_ Maisy goes camping Day 3[53].wav\n",
      "/tamu_hw/csce_fall2021/csce606/ILOI/src/data/Beihai/Year 1/Chunks/Lily_ Maisy goes camping Day 3[54].wav\n",
      "/tamu_hw/csce_fall2021/csce606/ILOI/src/data/Beihai/Year 1/Chunks/Lily_ Maisy goes camping Day 3[55].wav\n",
      "/tamu_hw/csce_fall2021/csce606/ILOI/src/data/Beihai/Year 1/Chunks/Lily_ Maisy goes camping Day 3[56].wav\n",
      "/tamu_hw/csce_fall2021/csce606/ILOI/src/data/Beihai/Year 1/Chunks/Lily_ Maisy goes camping Day 3[57].wav\n",
      "/tamu_hw/csce_fall2021/csce606/ILOI/src/data/Beihai/Year 1/Chunks/Lily_ Maisy goes camping Day 3[58].wav\n",
      "/tamu_hw/csce_fall2021/csce606/ILOI/src/data/Beihai/Year 1/Chunks/Lily_ Maisy goes camping Day 3[59].wav\n",
      "/tamu_hw/csce_fall2021/csce606/ILOI/src/data/Beihai/Year 1/Chunks/Lily_ Pete the cat Day 4[0].wav\n",
      "/tamu_hw/csce_fall2021/csce606/ILOI/src/data/Beihai/Year 1/Chunks/Lily_ Pete the cat Day 4[1].wav\n",
      "/tamu_hw/csce_fall2021/csce606/ILOI/src/data/Beihai/Year 1/Chunks/Lily_ Pete the cat Day 4[2].wav\n",
      "/tamu_hw/csce_fall2021/csce606/ILOI/src/data/Beihai/Year 1/Chunks/Lily_ Pete the cat Day 4[3].wav\n",
      "/tamu_hw/csce_fall2021/csce606/ILOI/src/data/Beihai/Year 1/Chunks/Lily_ Pete the cat Day 4[4].wav\n",
      "/tamu_hw/csce_fall2021/csce606/ILOI/src/data/Beihai/Year 1/Chunks/Lily_ Pete the cat Day 4[5].wav\n",
      "/tamu_hw/csce_fall2021/csce606/ILOI/src/data/Beihai/Year 1/Chunks/Lily_ Pete the cat Day 4[6].wav\n",
      "/tamu_hw/csce_fall2021/csce606/ILOI/src/data/Beihai/Year 1/Chunks/Lily_ Pete the cat Day 4[7].wav\n",
      "/tamu_hw/csce_fall2021/csce606/ILOI/src/data/Beihai/Year 1/Chunks/Lily_ Pete the cat Day 4[8].wav\n",
      "/tamu_hw/csce_fall2021/csce606/ILOI/src/data/Beihai/Year 1/Chunks/Lily_ Pete the cat Day 4[9].wav\n",
      "/tamu_hw/csce_fall2021/csce606/ILOI/src/data/Beihai/Year 1/Chunks/Lily_ Pete the cat Day 4[10].wav\n",
      "/tamu_hw/csce_fall2021/csce606/ILOI/src/data/Beihai/Year 1/Chunks/Lily_ Pete the cat Day 4[11].wav\n",
      "/tamu_hw/csce_fall2021/csce606/ILOI/src/data/Beihai/Year 1/Chunks/Lily_ Pete the cat Day 4[12].wav\n",
      "/tamu_hw/csce_fall2021/csce606/ILOI/src/data/Beihai/Year 1/Chunks/Lily_ Pete the cat Day 4[13].wav\n",
      "/tamu_hw/csce_fall2021/csce606/ILOI/src/data/Beihai/Year 1/Chunks/Lily_ Pete the cat Day 4[14].wav\n",
      "/tamu_hw/csce_fall2021/csce606/ILOI/src/data/Beihai/Year 1/Chunks/Lily_ Pete the cat Day 4[15].wav\n",
      "/tamu_hw/csce_fall2021/csce606/ILOI/src/data/Beihai/Year 1/Chunks/Lily_ Pete the cat Day 4[16].wav\n",
      "/tamu_hw/csce_fall2021/csce606/ILOI/src/data/Beihai/Year 1/Chunks/Lily_ Pete the cat Day 4[17].wav\n",
      "/tamu_hw/csce_fall2021/csce606/ILOI/src/data/Beihai/Year 1/Chunks/Lily_ Pete the cat Day 4[18].wav\n",
      "/tamu_hw/csce_fall2021/csce606/ILOI/src/data/Beihai/Year 1/Chunks/Lily_ Pete the cat Day 4[19].wav\n"
     ]
    },
    {
     "name": "stdout",
     "output_type": "stream",
     "text": [
      "/tamu_hw/csce_fall2021/csce606/ILOI/src/data/Beihai/Year 1/Chunks/Lily_ Pete the cat Day 4[20].wav\n",
      "/tamu_hw/csce_fall2021/csce606/ILOI/src/data/Beihai/Year 1/Chunks/Lily_ Pete the cat Day 4[21].wav\n",
      "/tamu_hw/csce_fall2021/csce606/ILOI/src/data/Beihai/Year 1/Chunks/Lily_ Pete the cat Day 4[22].wav\n",
      "/tamu_hw/csce_fall2021/csce606/ILOI/src/data/Beihai/Year 1/Chunks/Lily_ Pete the cat Day 4[23].wav\n",
      "/tamu_hw/csce_fall2021/csce606/ILOI/src/data/Beihai/Year 1/Chunks/Lily_ Pete the cat Day 4[24].wav\n",
      "/tamu_hw/csce_fall2021/csce606/ILOI/src/data/Beihai/Year 1/Chunks/Lily_ Pete the cat Day 4[25].wav\n",
      "/tamu_hw/csce_fall2021/csce606/ILOI/src/data/Beihai/Year 1/Chunks/Lily_ Pete the cat Day 4[26].wav\n",
      "/tamu_hw/csce_fall2021/csce606/ILOI/src/data/Beihai/Year 1/Chunks/Lily_ Pete the cat Day 4[27].wav\n",
      "/tamu_hw/csce_fall2021/csce606/ILOI/src/data/Beihai/Year 1/Chunks/Lily_ Pete the cat Day 4[28].wav\n",
      "/tamu_hw/csce_fall2021/csce606/ILOI/src/data/Beihai/Year 1/Chunks/Lily_ Pete the cat Day 4[29].wav\n",
      "/tamu_hw/csce_fall2021/csce606/ILOI/src/data/Beihai/Year 1/Chunks/Lily_ Pete the cat Day 4[30].wav\n",
      "/tamu_hw/csce_fall2021/csce606/ILOI/src/data/Beihai/Year 1/Chunks/Lily_ Pete the cat Day 4[31].wav\n",
      "/tamu_hw/csce_fall2021/csce606/ILOI/src/data/Beihai/Year 1/Chunks/Lily_ Pete the cat Day 4[32].wav\n",
      "/tamu_hw/csce_fall2021/csce606/ILOI/src/data/Beihai/Year 1/Chunks/Lily_ Pete the cat Day 4[33].wav\n",
      "/tamu_hw/csce_fall2021/csce606/ILOI/src/data/Beihai/Year 1/Chunks/Lily_ Pete the cat Day 4[34].wav\n",
      "/tamu_hw/csce_fall2021/csce606/ILOI/src/data/Beihai/Year 1/Chunks/Lily_ Pete the cat Day 4[35].wav\n",
      "/tamu_hw/csce_fall2021/csce606/ILOI/src/data/Beihai/Year 1/Chunks/Lily_ Pete the cat Day 4[36].wav\n",
      "/tamu_hw/csce_fall2021/csce606/ILOI/src/data/Beihai/Year 1/Chunks/Lily_ Pete the cat Day 4[37].wav\n",
      "/tamu_hw/csce_fall2021/csce606/ILOI/src/data/Beihai/Year 1/Chunks/Lily_ Pete the cat Day 4[38].wav\n",
      "/tamu_hw/csce_fall2021/csce606/ILOI/src/data/Beihai/Year 1/Chunks/Lily_ Pete the cat Day 4[39].wav\n",
      "/tamu_hw/csce_fall2021/csce606/ILOI/src/data/Beihai/Year 1/Chunks/Lily_ Pete the cat Day 4[40].wav\n",
      "/tamu_hw/csce_fall2021/csce606/ILOI/src/data/Beihai/Year 1/Chunks/Lily_ Pete the cat Day 4[41].wav\n",
      "/tamu_hw/csce_fall2021/csce606/ILOI/src/data/Beihai/Year 1/Chunks/Lily_ Pete the cat Day 4[42].wav\n",
      "/tamu_hw/csce_fall2021/csce606/ILOI/src/data/Beihai/Year 1/Chunks/Lily_ Pete the cat Day 4[43].wav\n",
      "/tamu_hw/csce_fall2021/csce606/ILOI/src/data/Beihai/Year 1/Chunks/Lily_ Pete the cat Day 4[44].wav\n",
      "/tamu_hw/csce_fall2021/csce606/ILOI/src/data/Beihai/Year 1/Chunks/Lily_ Pete the cat Day 4[45].wav\n",
      "/tamu_hw/csce_fall2021/csce606/ILOI/src/data/Beihai/Year 1/Chunks/Lily_ Pete the cat Day 4[46].wav\n",
      "/tamu_hw/csce_fall2021/csce606/ILOI/src/data/Beihai/Year 1/Chunks/Lily_ Pete the cat Day 4[47].wav\n",
      "/tamu_hw/csce_fall2021/csce606/ILOI/src/data/Beihai/Year 1/Chunks/Lily_ Pete the cat Day 4[48].wav\n",
      "/tamu_hw/csce_fall2021/csce606/ILOI/src/data/Beihai/Year 1/Chunks/Lily_ Pete the cat Day 4[49].wav\n",
      "/tamu_hw/csce_fall2021/csce606/ILOI/src/data/Beihai/Year 1/Chunks/Lily_ Pete the cat Day 4[50].wav\n",
      "/tamu_hw/csce_fall2021/csce606/ILOI/src/data/Beihai/Year 1/Chunks/Lily_ Pete the cat Day 4[51].wav\n",
      "/tamu_hw/csce_fall2021/csce606/ILOI/src/data/Beihai/Year 1/Chunks/Lily_ Pete the cat Day 4[52].wav\n",
      "/tamu_hw/csce_fall2021/csce606/ILOI/src/data/Beihai/Year 1/Chunks/Lily_ Pete the cat Day 4[53].wav\n",
      "/tamu_hw/csce_fall2021/csce606/ILOI/src/data/Beihai/Year 1/Chunks/Lily_ Pete the cat Day 4[54].wav\n",
      "/tamu_hw/csce_fall2021/csce606/ILOI/src/data/Beihai/Year 1/Chunks/Lily_ Pete the cat Day 4[55].wav\n",
      "/tamu_hw/csce_fall2021/csce606/ILOI/src/data/Beihai/Year 1/Chunks/Lily_ Pete the cat Day 4[56].wav\n",
      "/tamu_hw/csce_fall2021/csce606/ILOI/src/data/Beihai/Year 1/Chunks/Lily_ Pete the cat Day 4[57].wav\n",
      "/tamu_hw/csce_fall2021/csce606/ILOI/src/data/Beihai/Year 1/Chunks/Lily_ Pete the cat Day 4[58].wav\n",
      "/tamu_hw/csce_fall2021/csce606/ILOI/src/data/Beihai/Year 1/Chunks/Lily_ Pete the cat Day 4[59].wav\n",
      "/tamu_hw/csce_fall2021/csce606/ILOI/src/data/Beihai/Year 1/Chunks/Lily_ Stop and go Day 1[0].wav\n",
      "/tamu_hw/csce_fall2021/csce606/ILOI/src/data/Beihai/Year 1/Chunks/Lily_ Stop and go Day 1[1].wav\n",
      "/tamu_hw/csce_fall2021/csce606/ILOI/src/data/Beihai/Year 1/Chunks/Lily_ Stop and go Day 1[2].wav\n",
      "/tamu_hw/csce_fall2021/csce606/ILOI/src/data/Beihai/Year 1/Chunks/Lily_ Stop and go Day 1[3].wav\n",
      "/tamu_hw/csce_fall2021/csce606/ILOI/src/data/Beihai/Year 1/Chunks/Lily_ Stop and go Day 1[4].wav\n",
      "/tamu_hw/csce_fall2021/csce606/ILOI/src/data/Beihai/Year 1/Chunks/Lily_ Stop and go Day 1[5].wav\n",
      "/tamu_hw/csce_fall2021/csce606/ILOI/src/data/Beihai/Year 1/Chunks/Lily_ Stop and go Day 1[6].wav\n",
      "/tamu_hw/csce_fall2021/csce606/ILOI/src/data/Beihai/Year 1/Chunks/Lily_ Stop and go Day 1[7].wav\n",
      "/tamu_hw/csce_fall2021/csce606/ILOI/src/data/Beihai/Year 1/Chunks/Lily_ Stop and go Day 1[8].wav\n",
      "/tamu_hw/csce_fall2021/csce606/ILOI/src/data/Beihai/Year 1/Chunks/Lily_ Stop and go Day 1[9].wav\n",
      "/tamu_hw/csce_fall2021/csce606/ILOI/src/data/Beihai/Year 1/Chunks/Lily_ Stop and go Day 1[10].wav\n",
      "/tamu_hw/csce_fall2021/csce606/ILOI/src/data/Beihai/Year 1/Chunks/Lily_ Stop and go Day 1[11].wav\n",
      "/tamu_hw/csce_fall2021/csce606/ILOI/src/data/Beihai/Year 1/Chunks/Lily_ Stop and go Day 1[12].wav\n",
      "/tamu_hw/csce_fall2021/csce606/ILOI/src/data/Beihai/Year 1/Chunks/Lily_ Stop and go Day 1[13].wav\n",
      "/tamu_hw/csce_fall2021/csce606/ILOI/src/data/Beihai/Year 1/Chunks/Lily_ Stop and go Day 1[14].wav\n",
      "/tamu_hw/csce_fall2021/csce606/ILOI/src/data/Beihai/Year 1/Chunks/Lily_ Stop and go Day 1[15].wav\n",
      "/tamu_hw/csce_fall2021/csce606/ILOI/src/data/Beihai/Year 1/Chunks/Lily_ Stop and go Day 1[16].wav\n",
      "/tamu_hw/csce_fall2021/csce606/ILOI/src/data/Beihai/Year 1/Chunks/Lily_ Stop and go Day 1[17].wav\n",
      "/tamu_hw/csce_fall2021/csce606/ILOI/src/data/Beihai/Year 1/Chunks/Lily_ Stop and go Day 1[18].wav\n",
      "/tamu_hw/csce_fall2021/csce606/ILOI/src/data/Beihai/Year 1/Chunks/Lily_ Stop and go Day 1[19].wav\n",
      "/tamu_hw/csce_fall2021/csce606/ILOI/src/data/Beihai/Year 1/Chunks/Lily_ Stop and go Day 1[20].wav\n",
      "/tamu_hw/csce_fall2021/csce606/ILOI/src/data/Beihai/Year 1/Chunks/Lily_ Stop and go Day 1[21].wav\n",
      "/tamu_hw/csce_fall2021/csce606/ILOI/src/data/Beihai/Year 1/Chunks/Lily_ Stop and go Day 1[22].wav\n",
      "/tamu_hw/csce_fall2021/csce606/ILOI/src/data/Beihai/Year 1/Chunks/Lily_ Stop and go Day 1[23].wav\n",
      "/tamu_hw/csce_fall2021/csce606/ILOI/src/data/Beihai/Year 1/Chunks/Lily_ Stop and go Day 1[24].wav\n",
      "/tamu_hw/csce_fall2021/csce606/ILOI/src/data/Beihai/Year 1/Chunks/Lily_ Stop and go Day 1[25].wav\n",
      "/tamu_hw/csce_fall2021/csce606/ILOI/src/data/Beihai/Year 1/Chunks/Lily_ Stop and go Day 1[26].wav\n",
      "/tamu_hw/csce_fall2021/csce606/ILOI/src/data/Beihai/Year 1/Chunks/Lily_ Stop and go Day 1[27].wav\n",
      "/tamu_hw/csce_fall2021/csce606/ILOI/src/data/Beihai/Year 1/Chunks/Lily_ Stop and go Day 1[28].wav\n",
      "/tamu_hw/csce_fall2021/csce606/ILOI/src/data/Beihai/Year 1/Chunks/Lily_ Stop and go Day 1[29].wav\n",
      "/tamu_hw/csce_fall2021/csce606/ILOI/src/data/Beihai/Year 1/Chunks/Lily_ Stop and go Day 1[30].wav\n",
      "/tamu_hw/csce_fall2021/csce606/ILOI/src/data/Beihai/Year 1/Chunks/Lily_ Stop and go Day 1[31].wav\n",
      "/tamu_hw/csce_fall2021/csce606/ILOI/src/data/Beihai/Year 1/Chunks/Lily_ Stop and go Day 1[32].wav\n",
      "/tamu_hw/csce_fall2021/csce606/ILOI/src/data/Beihai/Year 1/Chunks/Lily_ Stop and go Day 1[33].wav\n",
      "/tamu_hw/csce_fall2021/csce606/ILOI/src/data/Beihai/Year 1/Chunks/Lily_ Stop and go Day 1[34].wav\n",
      "/tamu_hw/csce_fall2021/csce606/ILOI/src/data/Beihai/Year 1/Chunks/Lily_ Stop and go Day 1[35].wav\n",
      "/tamu_hw/csce_fall2021/csce606/ILOI/src/data/Beihai/Year 1/Chunks/Lily_ Stop and go Day 1[36].wav\n",
      "/tamu_hw/csce_fall2021/csce606/ILOI/src/data/Beihai/Year 1/Chunks/Lily_ Stop and go Day 1[37].wav\n",
      "/tamu_hw/csce_fall2021/csce606/ILOI/src/data/Beihai/Year 1/Chunks/Lily_ Stop and go Day 1[38].wav\n",
      "/tamu_hw/csce_fall2021/csce606/ILOI/src/data/Beihai/Year 1/Chunks/Lily_ Stop and go Day 1[39].wav\n",
      "/tamu_hw/csce_fall2021/csce606/ILOI/src/data/Beihai/Year 1/Chunks/Lily_ Stop and go Day 1[40].wav\n",
      "/tamu_hw/csce_fall2021/csce606/ILOI/src/data/Beihai/Year 1/Chunks/Lily_ Stop and go Day 1[41].wav\n",
      "/tamu_hw/csce_fall2021/csce606/ILOI/src/data/Beihai/Year 1/Chunks/Lily_ Stop and go Day 1[42].wav\n",
      "/tamu_hw/csce_fall2021/csce606/ILOI/src/data/Beihai/Year 1/Chunks/Lily_ Stop and go Day 1[43].wav\n",
      "/tamu_hw/csce_fall2021/csce606/ILOI/src/data/Beihai/Year 1/Chunks/Lily_ Stop and go Day 1[44].wav\n",
      "/tamu_hw/csce_fall2021/csce606/ILOI/src/data/Beihai/Year 1/Chunks/Lily_ Stop and go Day 1[45].wav\n",
      "/tamu_hw/csce_fall2021/csce606/ILOI/src/data/Beihai/Year 1/Chunks/Lily_ Stop and go Day 1[46].wav\n",
      "/tamu_hw/csce_fall2021/csce606/ILOI/src/data/Beihai/Year 1/Chunks/Lily_ Stop and go Day 1[47].wav\n"
     ]
    },
    {
     "name": "stdout",
     "output_type": "stream",
     "text": [
      "/tamu_hw/csce_fall2021/csce606/ILOI/src/data/Beihai/Year 1/Chunks/Lily_ Stop and go Day 1[48].wav\n",
      "/tamu_hw/csce_fall2021/csce606/ILOI/src/data/Beihai/Year 1/Chunks/Lily_ Stop and go Day 1[49].wav\n",
      "/tamu_hw/csce_fall2021/csce606/ILOI/src/data/Beihai/Year 1/Chunks/Lily_ Stop and go Day 1[50].wav\n",
      "/tamu_hw/csce_fall2021/csce606/ILOI/src/data/Beihai/Year 1/Chunks/Lily_ Stop and go Day 1[51].wav\n",
      "/tamu_hw/csce_fall2021/csce606/ILOI/src/data/Beihai/Year 1/Chunks/Lily_ Stop and go Day 1[52].wav\n",
      "/tamu_hw/csce_fall2021/csce606/ILOI/src/data/Beihai/Year 1/Chunks/Lily_ Stop and go Day 1[53].wav\n",
      "/tamu_hw/csce_fall2021/csce606/ILOI/src/data/Beihai/Year 1/Chunks/Lily_ Stop and go Day 1[54].wav\n",
      "/tamu_hw/csce_fall2021/csce606/ILOI/src/data/Beihai/Year 1/Chunks/Lily_ Stop and go Day 1[55].wav\n",
      "/tamu_hw/csce_fall2021/csce606/ILOI/src/data/Beihai/Year 1/Chunks/Lily_ Stop and go Day 1[56].wav\n",
      "/tamu_hw/csce_fall2021/csce606/ILOI/src/data/Beihai/Year 1/Chunks/Lily_ Stop and go Day 1[57].wav\n",
      "/tamu_hw/csce_fall2021/csce606/ILOI/src/data/Beihai/Year 1/Chunks/Lily_ Stop and go Day 1[58].wav\n",
      "/tamu_hw/csce_fall2021/csce606/ILOI/src/data/Beihai/Year 1/Chunks/Lily_ Stop and go Day 1[59].wav\n",
      "/tamu_hw/csce_fall2021/csce606/ILOI/src/data/Beihai/Year 1/Chunks/Lily_ The princess and the pea Day 4[0].wav\n",
      "/tamu_hw/csce_fall2021/csce606/ILOI/src/data/Beihai/Year 1/Chunks/Lily_ The princess and the pea Day 4[1].wav\n",
      "/tamu_hw/csce_fall2021/csce606/ILOI/src/data/Beihai/Year 1/Chunks/Lily_ The princess and the pea Day 4[2].wav\n",
      "/tamu_hw/csce_fall2021/csce606/ILOI/src/data/Beihai/Year 1/Chunks/Lily_ The princess and the pea Day 4[3].wav\n",
      "/tamu_hw/csce_fall2021/csce606/ILOI/src/data/Beihai/Year 1/Chunks/Lily_ The princess and the pea Day 4[4].wav\n",
      "/tamu_hw/csce_fall2021/csce606/ILOI/src/data/Beihai/Year 1/Chunks/Lily_ The princess and the pea Day 4[5].wav\n",
      "/tamu_hw/csce_fall2021/csce606/ILOI/src/data/Beihai/Year 1/Chunks/Lily_ The princess and the pea Day 4[6].wav\n",
      "/tamu_hw/csce_fall2021/csce606/ILOI/src/data/Beihai/Year 1/Chunks/Lily_ The princess and the pea Day 4[7].wav\n",
      "/tamu_hw/csce_fall2021/csce606/ILOI/src/data/Beihai/Year 1/Chunks/Lily_ The princess and the pea Day 4[8].wav\n",
      "/tamu_hw/csce_fall2021/csce606/ILOI/src/data/Beihai/Year 1/Chunks/Lily_ The princess and the pea Day 4[9].wav\n",
      "/tamu_hw/csce_fall2021/csce606/ILOI/src/data/Beihai/Year 1/Chunks/Lily_ The princess and the pea Day 4[10].wav\n",
      "/tamu_hw/csce_fall2021/csce606/ILOI/src/data/Beihai/Year 1/Chunks/Lily_ The princess and the pea Day 4[11].wav\n",
      "/tamu_hw/csce_fall2021/csce606/ILOI/src/data/Beihai/Year 1/Chunks/Lily_ The princess and the pea Day 4[12].wav\n",
      "/tamu_hw/csce_fall2021/csce606/ILOI/src/data/Beihai/Year 1/Chunks/Lily_ The princess and the pea Day 4[13].wav\n",
      "/tamu_hw/csce_fall2021/csce606/ILOI/src/data/Beihai/Year 1/Chunks/Lily_ The princess and the pea Day 4[14].wav\n",
      "/tamu_hw/csce_fall2021/csce606/ILOI/src/data/Beihai/Year 1/Chunks/Lily_ The princess and the pea Day 4[15].wav\n",
      "/tamu_hw/csce_fall2021/csce606/ILOI/src/data/Beihai/Year 1/Chunks/Lily_ The princess and the pea Day 4[16].wav\n",
      "/tamu_hw/csce_fall2021/csce606/ILOI/src/data/Beihai/Year 1/Chunks/Lily_ The princess and the pea Day 4[17].wav\n",
      "/tamu_hw/csce_fall2021/csce606/ILOI/src/data/Beihai/Year 1/Chunks/Lily_ The princess and the pea Day 4[18].wav\n",
      "/tamu_hw/csce_fall2021/csce606/ILOI/src/data/Beihai/Year 1/Chunks/Lily_ The princess and the pea Day 4[19].wav\n",
      "/tamu_hw/csce_fall2021/csce606/ILOI/src/data/Beihai/Year 1/Chunks/Lily_ The princess and the pea Day 4[20].wav\n",
      "/tamu_hw/csce_fall2021/csce606/ILOI/src/data/Beihai/Year 1/Chunks/Lily_ The princess and the pea Day 4[21].wav\n",
      "/tamu_hw/csce_fall2021/csce606/ILOI/src/data/Beihai/Year 1/Chunks/Lily_ The princess and the pea Day 4[22].wav\n",
      "/tamu_hw/csce_fall2021/csce606/ILOI/src/data/Beihai/Year 1/Chunks/Lily_ The princess and the pea Day 4[23].wav\n",
      "/tamu_hw/csce_fall2021/csce606/ILOI/src/data/Beihai/Year 1/Chunks/Lily_ The princess and the pea Day 4[24].wav\n",
      "/tamu_hw/csce_fall2021/csce606/ILOI/src/data/Beihai/Year 1/Chunks/Lily_ The princess and the pea Day 4[25].wav\n",
      "/tamu_hw/csce_fall2021/csce606/ILOI/src/data/Beihai/Year 1/Chunks/Lily_ The princess and the pea Day 4[26].wav\n",
      "/tamu_hw/csce_fall2021/csce606/ILOI/src/data/Beihai/Year 1/Chunks/Lily_ The princess and the pea Day 4[27].wav\n",
      "/tamu_hw/csce_fall2021/csce606/ILOI/src/data/Beihai/Year 1/Chunks/Lily_ The princess and the pea Day 4[28].wav\n",
      "/tamu_hw/csce_fall2021/csce606/ILOI/src/data/Beihai/Year 1/Chunks/Lily_ The princess and the pea Day 4[29].wav\n",
      "/tamu_hw/csce_fall2021/csce606/ILOI/src/data/Beihai/Year 1/Chunks/Lily_ The princess and the pea Day 4[30].wav\n",
      "/tamu_hw/csce_fall2021/csce606/ILOI/src/data/Beihai/Year 1/Chunks/Lily_ The princess and the pea Day 4[31].wav\n",
      "/tamu_hw/csce_fall2021/csce606/ILOI/src/data/Beihai/Year 1/Chunks/Lily_ The princess and the pea Day 4[32].wav\n",
      "/tamu_hw/csce_fall2021/csce606/ILOI/src/data/Beihai/Year 1/Chunks/Lily_ The princess and the pea Day 4[33].wav\n",
      "/tamu_hw/csce_fall2021/csce606/ILOI/src/data/Beihai/Year 1/Chunks/Lily_ The princess and the pea Day 4[34].wav\n",
      "/tamu_hw/csce_fall2021/csce606/ILOI/src/data/Beihai/Year 1/Chunks/Lily_ The princess and the pea Day 4[35].wav\n",
      "/tamu_hw/csce_fall2021/csce606/ILOI/src/data/Beihai/Year 1/Chunks/Lily_ The princess and the pea Day 4[36].wav\n",
      "/tamu_hw/csce_fall2021/csce606/ILOI/src/data/Beihai/Year 1/Chunks/Lily_ The princess and the pea Day 4[37].wav\n",
      "/tamu_hw/csce_fall2021/csce606/ILOI/src/data/Beihai/Year 1/Chunks/Lily_ The princess and the pea Day 4[38].wav\n",
      "/tamu_hw/csce_fall2021/csce606/ILOI/src/data/Beihai/Year 1/Chunks/Lily_ The princess and the pea Day 4[39].wav\n",
      "/tamu_hw/csce_fall2021/csce606/ILOI/src/data/Beihai/Year 1/Chunks/Lily_ The princess and the pea Day 4[40].wav\n",
      "/tamu_hw/csce_fall2021/csce606/ILOI/src/data/Beihai/Year 1/Chunks/Lily_ The princess and the pea Day 4[41].wav\n",
      "/tamu_hw/csce_fall2021/csce606/ILOI/src/data/Beihai/Year 1/Chunks/Lily_ The princess and the pea Day 4[42].wav\n",
      "/tamu_hw/csce_fall2021/csce606/ILOI/src/data/Beihai/Year 1/Chunks/Lily_ The princess and the pea Day 4[43].wav\n",
      "/tamu_hw/csce_fall2021/csce606/ILOI/src/data/Beihai/Year 1/Chunks/Lily_ The princess and the pea Day 4[44].wav\n",
      "/tamu_hw/csce_fall2021/csce606/ILOI/src/data/Beihai/Year 1/Chunks/Lily_ The princess and the pea Day 4[45].wav\n",
      "/tamu_hw/csce_fall2021/csce606/ILOI/src/data/Beihai/Year 1/Chunks/Lily_ The princess and the pea Day 4[46].wav\n",
      "/tamu_hw/csce_fall2021/csce606/ILOI/src/data/Beihai/Year 1/Chunks/Lily_ The princess and the pea Day 4[47].wav\n",
      "/tamu_hw/csce_fall2021/csce606/ILOI/src/data/Beihai/Year 1/Chunks/Lily_ The princess and the pea Day 4[48].wav\n",
      "/tamu_hw/csce_fall2021/csce606/ILOI/src/data/Beihai/Year 1/Chunks/Lily_ The princess and the pea Day 4[49].wav\n",
      "/tamu_hw/csce_fall2021/csce606/ILOI/src/data/Beihai/Year 1/Chunks/Lily_ The princess and the pea Day 4[50].wav\n",
      "/tamu_hw/csce_fall2021/csce606/ILOI/src/data/Beihai/Year 1/Chunks/Lily_ The princess and the pea Day 4[51].wav\n",
      "/tamu_hw/csce_fall2021/csce606/ILOI/src/data/Beihai/Year 1/Chunks/Lily_ The princess and the pea Day 4[52].wav\n",
      "/tamu_hw/csce_fall2021/csce606/ILOI/src/data/Beihai/Year 1/Chunks/Lily_ The princess and the pea Day 4[53].wav\n",
      "/tamu_hw/csce_fall2021/csce606/ILOI/src/data/Beihai/Year 1/Chunks/Lily_ The princess and the pea Day 4[54].wav\n",
      "/tamu_hw/csce_fall2021/csce606/ILOI/src/data/Beihai/Year 1/Chunks/Lily_ The princess and the pea Day 4[55].wav\n",
      "/tamu_hw/csce_fall2021/csce606/ILOI/src/data/Beihai/Year 1/Chunks/Lily_ The princess and the pea Day 4[56].wav\n",
      "/tamu_hw/csce_fall2021/csce606/ILOI/src/data/Beihai/Year 1/Chunks/Lily_ The princess and the pea Day 4[57].wav\n",
      "/tamu_hw/csce_fall2021/csce606/ILOI/src/data/Beihai/Year 1/Chunks/Lily_ The princess and the pea Day 4[58].wav\n",
      "/tamu_hw/csce_fall2021/csce606/ILOI/src/data/Beihai/Year 1/Chunks/Lily_ The princess and the pea Day 4[59].wav\n"
     ]
    }
   ],
   "source": [
    "from pydub import AudioSegment\n",
    "from pydub.utils import make_chunks\n",
    "import numpy\n",
    "from scipy.io import wavfile\n",
    "\n",
    "chunks_asarray = []\n",
    "path = \"/tamu_hw/csce_fall2021/csce606/ILOI/src/data/Beihai/Year 1/Audios\"\n",
    "output_path = \"/tamu_hw/csce_fall2021/csce606/ILOI/src/data/Beihai/Year 1/Chunks\"\n",
    "for file in os.listdir(path):\n",
    "    filename = os.fsdecode(file)\n",
    "    file_p = os.path.join(path, filename)\n",
    "    find_ex = filename.rfind('.')\n",
    "    name = filename[0:find_ex]\n",
    "    audio = AudioSegment.from_wav(file_p)\n",
    "    twenty_seconds = 20 * 1000\n",
    "    start_from_two_mins = audio[2*60*1000:22*60*1000]\n",
    "    chunks = make_chunks(start_from_two_mins, twenty_seconds)\n",
    "    for i, chunk in enumerate(chunks):\n",
    "        temp_name = output_path + '/' + name + \"[\" + str(i) + \"]\" + \".wav\"\n",
    "        chunk.export(temp_name, format=\"wav\")\n",
    "        fs, x = wavfile.read(temp_name)\n",
    "        x = numpy.array(x)\n",
    "        chunks_asarray.append(x)\n",
    "        print(temp_name)"
   ]
  },
  {
   "cell_type": "code",
   "execution_count": 88,
   "id": "d1a632d6",
   "metadata": {},
   "outputs": [],
   "source": [
    "#import numpy\n",
    "#from scipy.io import wavfile\n",
    "\n",
    "#chunks_asarray = []\n",
    "#path = \"/tamu_hw/csce_fall2021/csce606/ILOI/src/data/Beihai/Year 1/Chunks\"\n",
    "\n",
    "#for file in os.listdir(path):\n",
    "#    filename = os.fsdecode(file)\n",
    "#    print(filename)\n",
    "#    file_p = os.path.join(path, filename)\n",
    "#    fs, x = wavfile.read(file_p)\n",
    "#    x = numpy.array(x)\n",
    "#    chunks_asarray.append(x)"
   ]
  },
  {
   "cell_type": "code",
   "execution_count": 147,
   "id": "44d79cce",
   "metadata": {},
   "outputs": [],
   "source": [
    "from sklearn.decomposition import PCA\n",
    "\n",
    "decompo = []\n",
    "for each in chunks_asarray: \n",
    "    pca = PCA(n_components=2,svd_solver='auto')\n",
    "    pca.fit(each)\n",
    "    newone = pca.singular_values_\n",
    "    decompo.append(newone)"
   ]
  },
  {
   "cell_type": "code",
   "execution_count": 148,
   "id": "267f7f70",
   "metadata": {},
   "outputs": [],
   "source": [
    "main_df[\"chunks\"] = decompo"
   ]
  },
  {
   "cell_type": "code",
   "execution_count": 149,
   "id": "08648eb6",
   "metadata": {},
   "outputs": [
    {
     "name": "stdout",
     "output_type": "stream",
     "text": [
      "0    [5147701.080261255, 4238408.0668615475]\n",
      "1     [4670022.30648177, 3675600.9988357774]\n",
      "2     [6138922.219000873, 4597743.592209528]\n",
      "3     [5757838.102089798, 4091100.745865008]\n",
      "4    [3882819.2977149086, 3473645.230645405]\n",
      "Name: chunks, dtype: object\n"
     ]
    }
   ],
   "source": [
    "print(main_df[\"chunks\"].head())"
   ]
  },
  {
   "cell_type": "code",
   "execution_count": 189,
   "id": "368c7cb9",
   "metadata": {},
   "outputs": [],
   "source": [
    "#from sklearn.model_selection import train_test_split\n",
    "#\n",
    "#X = main_df[\"chunks\"].values\n",
    "#y = main_df[\"Lang of Instruction Teacher\"].values\n",
    "#X_train, X_test, y_train, y_test = train_test_split(X, y, test_size=0.2, random_state=0)"
   ]
  },
  {
   "cell_type": "code",
   "execution_count": 214,
   "id": "24576db0",
   "metadata": {},
   "outputs": [
    {
     "name": "stdout",
     "output_type": "stream",
     "text": [
      "   Time  Strategy  Curriculum Area  Physical Group  Activity Structure  Mode  \\\n",
      "0     1         3               14               1                   8     3   \n",
      "1     2         1               14               5                   8    18   \n",
      "2     3         1               14               5                   8    18   \n",
      "3     4         3               14               1                   8     3   \n",
      "4     5        10               14               5                   8    18   \n",
      "\n",
      "   Language Content  Lang of Instruction Teacher  Lang of Instruction Student  \\\n",
      "0                 4                            2                            5   \n",
      "1                 4                            2                            2   \n",
      "2                 4                            2                            2   \n",
      "3                 4                            4                            5   \n",
      "4                 4                            2                            2   \n",
      "\n",
      "                                     chunks  \n",
      "0     [2209115.555782849, 1573380.62706664]  \n",
      "1  [2109151.6092286366, 1530290.1164123735]  \n",
      "2  [1848770.9372775462, 1239206.4195783343]  \n",
      "3  [2458794.4415724785, 1755332.1791189339]  \n",
      "4  [2127881.2809373825, 1350129.5158435819]  \n"
     ]
    }
   ],
   "source": [
    "split_91 = numpy.array_split(main_df, 10)\n",
    "train_df = pd.concat(split_91[0:9])\n",
    "test_df = split_91[9]\n",
    "print(test_df.head())"
   ]
  },
  {
   "cell_type": "code",
   "execution_count": 227,
   "id": "513ac770",
   "metadata": {},
   "outputs": [
    {
     "name": "stdout",
     "output_type": "stream",
     "text": [
      "   Time\n",
      "0     1\n",
      "1     2\n",
      "2     3\n",
      "3     4\n",
      "4     5\n",
      "['Strategy' 'Curriculum Area' 'Physical Group' 'Activity Structure' 'Mode'\n",
      " 'Language Content' 'Lang of Instruction Teacher'\n",
      " 'Lang of Instruction Student']\n"
     ]
    }
   ],
   "source": [
    "times = test_df[\"Time\"].values\n",
    "new_df = pd.DataFrame({\"Time\":times})\n",
    "print(new_df.head())\n",
    "features = main_df.columns.values\n",
    "features = numpy.delete(features,0)\n",
    "features = numpy.delete(features,8)\n",
    "print(features)"
   ]
  },
  {
   "cell_type": "code",
   "execution_count": 228,
   "id": "360878ed",
   "metadata": {},
   "outputs": [
    {
     "name": "stdout",
     "output_type": "stream",
     "text": [
      "0.3\n",
      "1.0\n",
      "0.5333333333333333\n",
      "0.18333333333333332\n",
      "0.31666666666666665\n",
      "0.9333333333333333\n",
      "0.4\n",
      "0.4666666666666667\n",
      "   Time  Strategy  Curriculum Area  Physical Group  Activity Structure  Mode  \\\n",
      "0     1         3               14               1                   6    16   \n",
      "1     2         3               14               5                   6    15   \n",
      "2     3         3               14               5                   8    18   \n",
      "3     4         1               14               5                   8    18   \n",
      "4     5         3               14               5                   6    18   \n",
      "\n",
      "   Language Content  Lang of Instruction Teacher  Lang of Instruction Student  \n",
      "0                 4                            2                            2  \n",
      "1                 4                            2                            2  \n",
      "2                 4                            2                            2  \n",
      "3                 4                            2                            2  \n",
      "4                 4                            2                            2  \n"
     ]
    }
   ],
   "source": [
    "for f in features:\n",
    "    X_train = train_df[\"chunks\"].values\n",
    "    y_train = train_df[f].values\n",
    "    X_test = test_df[\"chunks\"].values\n",
    "    y_test = test_df[f].values\n",
    "    vector = numpy.vectorize(float)\n",
    "    X_train_v = []\n",
    "    X_test_v = []\n",
    "    for x in X_train:\n",
    "        X_train_v.append(vector(x))\n",
    "    for t in X_test:\n",
    "        X_test_v.append(vector(t))\n",
    "    X_train_v = numpy.array(X_train_v)\n",
    "    X_test_v = numpy.array(X_test_v)\n",
    "    X_train_f = X_train_v.reshape(540, 2)\n",
    "    X_test_f = X_test_v.reshape(60, 2)\n",
    "    reg = KNeighborsClassifier(3).fit(X_train_f, y_train)\n",
    "    print(reg.score(X_test_f, y_test))\n",
    "    ans = reg.predict(X_test_f)\n",
    "    new_df[f] = ans\n",
    "print(new_df.head())"
   ]
  },
  {
   "cell_type": "code",
   "execution_count": 232,
   "id": "623af0d8",
   "metadata": {},
   "outputs": [],
   "source": [
    "new_df.to_excel(\"test1.xlsx\",startrow=5,startcol=1,index=False)\n",
    "\n"
   ]
  },
  {
   "cell_type": "code",
   "execution_count": null,
   "id": "e3f50ee6",
   "metadata": {},
   "outputs": [],
   "source": []
  },
  {
   "cell_type": "code",
   "execution_count": null,
   "id": "d7cb1e7a",
   "metadata": {},
   "outputs": [],
   "source": []
  }
 ],
 "metadata": {
  "kernelspec": {
   "display_name": "Python 3",
   "language": "python",
   "name": "python3"
  },
  "language_info": {
   "codemirror_mode": {
    "name": "ipython",
    "version": 3
   },
   "file_extension": ".py",
   "mimetype": "text/x-python",
   "name": "python",
   "nbconvert_exporter": "python",
   "pygments_lexer": "ipython3",
   "version": "3.8.8"
  }
 },
 "nbformat": 4,
 "nbformat_minor": 5
}
